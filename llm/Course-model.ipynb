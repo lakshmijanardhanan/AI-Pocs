{
 "cells": [
  {
   "cell_type": "code",
   "execution_count": 90,
   "id": "8fa42d2a-4ef3-438b-9a23-2c5a58a2d4d1",
   "metadata": {},
   "outputs": [],
   "source": [
    "import config"
   ]
  },
  {
   "cell_type": "code",
   "execution_count": 92,
   "id": "08040296-b1ea-49da-9a7e-9c651c38f9da",
   "metadata": {},
   "outputs": [],
   "source": [
    "from langchain.document_loaders import WebBaseLoader\n",
    "from langchain.text_splitter import  RecursiveCharacterTextSplitter\n",
    "from langchain.embeddings import OpenAIEmbeddings\n",
    "from langchain.vectorstores import FAISS\n",
    "from langchain.memory import ConversationBufferMemory\n",
    "from langchain.llms import OpenAI\n",
    "from langchain.chains import ConversationalRetrievalChain\n",
    "from langchain.chat_models import ChatOpenAI"
   ]
  },
  {
   "cell_type": "code",
   "execution_count": 94,
   "id": "b5b74909-3a18-4f50-8033-ca6938a7783b",
   "metadata": {},
   "outputs": [],
   "source": [
    "from langchain_openai import OpenAIEmbeddings"
   ]
  },
  {
   "cell_type": "code",
   "execution_count": 96,
   "id": "d78c0656-96cb-4956-868f-d7099ff8882a",
   "metadata": {},
   "outputs": [],
   "source": [
    "url = \"https://www.bu.edu/academics/cas/courses/\""
   ]
  },
  {
   "cell_type": "code",
   "execution_count": 98,
   "id": "0211a060-70dc-4fe3-9c9d-a01c83e0c179",
   "metadata": {},
   "outputs": [],
   "source": [
    "loader = WebBaseLoader(url) # read information from web site"
   ]
  },
  {
   "cell_type": "code",
   "execution_count": 100,
   "id": "14052d58-b74f-49dd-a78b-e5c50d975975",
   "metadata": {},
   "outputs": [],
   "source": [
    "raw_documents = loader.load() # create lang chain documents"
   ]
  },
  {
   "cell_type": "code",
   "execution_count": 102,
   "id": "a5ac846f-5bdd-43f2-8e26-6a6073a83557",
   "metadata": {},
   "outputs": [],
   "source": [
    "text_splitter = RecursiveCharacterTextSplitter() # chunk the data into small pieces\n",
    "documents = text_splitter.split_documents(raw_documents)"
   ]
  },
  {
   "cell_type": "code",
   "execution_count": 104,
   "id": "7b425f93-54bc-4955-8275-4f5fee13b772",
   "metadata": {},
   "outputs": [],
   "source": [
    "api_key_2 = config.api_key_2"
   ]
  },
  {
   "cell_type": "code",
   "execution_count": 106,
   "id": "bec2d6c3-7f16-47bf-ad14-6e783af34bfe",
   "metadata": {},
   "outputs": [],
   "source": [
    "# This is the only model that allows to generate text embeddings. None of the gpt 4o mini turbo models etc allow it."
   ]
  },
  {
   "cell_type": "code",
   "execution_count": 108,
   "id": "1163a608-50bb-4282-a41e-6d6a5029637c",
   "metadata": {},
   "outputs": [],
   "source": [
    "model=\"text-embedding-ada-002\""
   ]
  },
  {
   "cell_type": "code",
   "execution_count": 110,
   "id": "2504fda9-f436-4ccf-aa85-b29e08afea92",
   "metadata": {},
   "outputs": [],
   "source": [
    "embeddings = OpenAIEmbeddings(model=model, api_key=api_key_2) # create embeddings"
   ]
  },
  {
   "cell_type": "code",
   "execution_count": 112,
   "id": "9e8e632e-ac94-478c-9c62-22abfffcd9e6",
   "metadata": {},
   "outputs": [],
   "source": [
    "vectorstore = FAISS.from_documents(documents, embeddings)\n"
   ]
  },
  {
   "cell_type": "code",
   "execution_count": 116,
   "id": "d0ec2c99-23d1-4be7-94ae-c68ca56489de",
   "metadata": {},
   "outputs": [],
   "source": [
    "# create a memory object to hold our inputs and outputs and for the model to hold the conversation"
   ]
  },
  {
   "cell_type": "code",
   "execution_count": 118,
   "id": "ee9cfd50-108c-4efd-ab05-75d741e56152",
   "metadata": {},
   "outputs": [],
   "source": [
    "memory = ConversationBufferMemory(memory_key=\"chat_history\", return_messages=True) # This is deprecated"
   ]
  },
  {
   "cell_type": "code",
   "execution_count": 120,
   "id": "e6963b25-75cc-4029-9191-d2055cd90b0b",
   "metadata": {},
   "outputs": [],
   "source": [
    "llm = ChatOpenAI(api_key=api_key_2, temperature=0)"
   ]
  },
  {
   "cell_type": "code",
   "execution_count": 122,
   "id": "0bef4289-18eb-4096-ae9c-ec65e712e4cf",
   "metadata": {},
   "outputs": [],
   "source": [
    "# The Conversational Retrieval chain first combines the chat history and the question asked to the model into a standalone question\n",
    "# It then looks up the relevant documents from the retriever and the passes the documents and the question  to the question answering chain\n",
    "# to return the correct response"
   ]
  },
  {
   "cell_type": "code",
   "execution_count": 128,
   "id": "b6208636-bc1e-4652-9f2a-25146a77faab",
   "metadata": {},
   "outputs": [],
   "source": [
    "qa = ConversationalRetrievalChain.from_llm(llm, vectorstore.as_retriever(), memory = memory)"
   ]
  },
  {
   "cell_type": "code",
   "execution_count": 141,
   "id": "a2362f58-55f6-48c2-9938-22933924b0d0",
   "metadata": {},
   "outputs": [],
   "source": [
    "query = \"What can you tell me about CAS courses?\""
   ]
  },
  {
   "cell_type": "code",
   "execution_count": 143,
   "id": "4edbaa2f-5c7b-4c8d-96b7-d03876abb6fd",
   "metadata": {},
   "outputs": [],
   "source": [
    "result = qa ({\"question\": query})"
   ]
  },
  {
   "cell_type": "code",
   "execution_count": 145,
   "id": "71612d22-2985-483f-803e-39fa77b572af",
   "metadata": {},
   "outputs": [
    {
     "data": {
      "text/plain": [
       "'Yes, I can provide information about CAS courses. What specific information are you looking for regarding CAS courses?'"
      ]
     },
     "execution_count": 145,
     "metadata": {},
     "output_type": "execute_result"
    }
   ],
   "source": [
    "result[\"answer\"]"
   ]
  },
  {
   "cell_type": "code",
   "execution_count": null,
   "id": "7a193f34-23a6-4eaa-a0a3-ea790899aeaa",
   "metadata": {},
   "outputs": [],
   "source": [
    "# Chatbot interactive loop"
   ]
  },
  {
   "cell_type": "code",
   "execution_count": 167,
   "id": "2715dbca-1ec8-4086-828f-21ec3d5cd265",
   "metadata": {},
   "outputs": [],
   "source": [
    "def chatbot():\n",
    "    print(\"chatbot initialized Type exit to quit \\n\")\n",
    "    while True:\n",
    "        query = input(\"You: \")\n",
    "        if query.lower()==\"exit\":\n",
    "            print(\"Goodbye\")\n",
    "            break\n",
    "        response=qa ({\"question\": query})\n",
    "        print(f\"AI: {response['answer']}\\n\")\n",
    "            "
   ]
  },
  {
   "cell_type": "code",
   "execution_count": null,
   "id": "16e71982-e546-41c2-b9f1-c71b0feffffd",
   "metadata": {},
   "outputs": [
    {
     "name": "stdout",
     "output_type": "stream",
     "text": [
      "chatbot initialized Type exit to quit \n",
      "\n"
     ]
    },
    {
     "name": "stdin",
     "output_type": "stream",
     "text": [
      "You:  What courses fulfill the hub requirements of global citizenship\n"
     ]
    },
    {
     "name": "stdout",
     "output_type": "stream",
     "text": [
      "AI: CAS AA 103: Introduction to African American Literature, CAS AA 304: Introduction to African American Women Writers, CAS AA 305: Toni Morrison's American Times, CAS AA 308: Race and Politics, CAS AA 310: Civil Rights History, CAS AA 114: Kongo to Cuba: Art, Exchange, and Self-Determination in Africa and Latin America, CAS AA 234: African Americans in Global Perspective: Slavery and the Creation of Race, CAS AA 237: Reconstructing the African Past, CAS AA 270: Race, Sex and Science Fiction, and CAS AA 287: Slavery and the In-Between fulfill the BU Hub requirement of Global Citizenship.\n",
      "\n"
     ]
    },
    {
     "name": "stdin",
     "output_type": "stream",
     "text": [
      "You:  You did not list the course I am taking with China\n"
     ]
    },
    {
     "name": "stdout",
     "output_type": "stream",
     "text": [
      "AI: I don't have information about any courses specifically involving China in the context provided.\n",
      "\n"
     ]
    },
    {
     "name": "stdin",
     "output_type": "stream",
     "text": [
      "You:  What courses on CAS are about China\n"
     ]
    },
    {
     "name": "stdout",
     "output_type": "stream",
     "text": [
      "AI: I don't have information on courses at CAS that specifically focus on China.\n",
      "\n"
     ]
    },
    {
     "name": "stdin",
     "output_type": "stream",
     "text": [
      "You:  What are the history based courses\n"
     ]
    },
    {
     "name": "stdout",
     "output_type": "stream",
     "text": [
      "AI: Here are some history-based courses available at CAS:\n",
      "\n",
      "1. CAS AA 112: Black Power in the Classroom: The History of Black Studies\n",
      "2. CAS AA 114: Kongo to Cuba: Art, Exchange, and Self-Determination in Africa and Latin America\n",
      "3. CAS AA 207: Sociology of Race and Ethnicity\n",
      "4. CAS AA 310: Civil Rights History\n",
      "5. CAS AA 234: African Americans in Global Perspective: Slavery and the Creation of Race\n",
      "6. CAS AA 237: Reconstructing the African Past\n",
      "\n",
      "These are just a few examples of history-based courses available at CAS.\n",
      "\n"
     ]
    },
    {
     "name": "stdin",
     "output_type": "stream",
     "text": [
      "You:  What are the courses required to major in neuroscience\n"
     ]
    },
    {
     "name": "stdout",
     "output_type": "stream",
     "text": [
      "AI: I don't have specific information on the neuroscience major requirements at Boston University. It would be best to refer to the neuroscience department's official website or contact the academic advisors at Boston University for accurate and up-to-date information on the required courses for a neuroscience major.\n",
      "\n"
     ]
    },
    {
     "name": "stdin",
     "output_type": "stream",
     "text": [
      "You:  What are the Neuroscience courses at CAS\n"
     ]
    },
    {
     "name": "stdout",
     "output_type": "stream",
     "text": [
      "AI: I don't know.\n",
      "\n"
     ]
    },
    {
     "name": "stdin",
     "output_type": "stream",
     "text": [
      "You:  Can you give me the description of the course China and USA\n"
     ]
    },
    {
     "name": "stdout",
     "output_type": "stream",
     "text": [
      "AI: I don't have information on a course specifically titled \"China and USA\" in the provided context. It seems like the course list provided does not include a course with that exact title.\n",
      "\n"
     ]
    }
   ],
   "source": [
    "if __name__==\"__main__\":\n",
    "    chatbot()"
   ]
  },
  {
   "cell_type": "code",
   "execution_count": null,
   "id": "47d245cb-3aa2-4b60-84f3-06086d0c95cd",
   "metadata": {},
   "outputs": [],
   "source": []
  }
 ],
 "metadata": {
  "kernelspec": {
   "display_name": "Python 3 (ipykernel)",
   "language": "python",
   "name": "python3"
  },
  "language_info": {
   "codemirror_mode": {
    "name": "ipython",
    "version": 3
   },
   "file_extension": ".py",
   "mimetype": "text/x-python",
   "name": "python",
   "nbconvert_exporter": "python",
   "pygments_lexer": "ipython3",
   "version": "3.12.7"
  }
 },
 "nbformat": 4,
 "nbformat_minor": 5
}
