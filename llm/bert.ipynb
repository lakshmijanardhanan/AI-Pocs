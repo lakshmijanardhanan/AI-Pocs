{
 "cells": [
  {
   "cell_type": "code",
   "execution_count": null,
   "id": "aa85138b-5548-4ce2-99aa-5163d597bcd0",
   "metadata": {},
   "outputs": [],
   "source": [
    "# Gpt models are fantastic at generating text in response to a prompt.\n",
    "# Bert Bidirectional Encoder Representations Transformers\n",
    "# Bert is a pretrained model that uses the transformer architecture to process and understand natural language\n",
    "# Develped by Google in 2018, go to model for devs in nlp. Bert was trained on massive amount of dataset including the books corpus dataset \n",
    "# which has 11000 books and wikipedia. Two models. 1- Bert Base have 110 million parameters and Bert large with 340 million parameters\n",
    "# GPT models are auto regressive meaning they predict the next word in the sentence baed on the preceding words\n",
    "# Bert unique for bidrectional context understanding. it predicts missing word in sentence by considering the entire context both the left context\n",
    "# and the right context in a pretraining process. helps to understand context and meaning better\n",
    "# GPT and Bert excel at different things. GPT models do exceptionally well at conversations and chatbots.\n",
    "# Bert is great at sentiment analysis, question answering and named entity recognition\n"
   ]
  },
  {
   "cell_type": "markdown",
   "id": "944143a0-9f4e-4768-836b-c122803779bc",
   "metadata": {},
   "source": [
    "# BERT Architecture"
   ]
  },
  {
   "cell_type": "code",
   "execution_count": null,
   "id": "a89b23b2-2f75-4531-92c4-359246523bbb",
   "metadata": {},
   "outputs": [],
   "source": [
    "# Only employs the encoder block unlike chat gpt. Because it uses  pretraining of the large corpus of text instead of sequence to sequence tasks"
   ]
  },
  {
   "cell_type": "code",
   "execution_count": null,
   "id": "e75a8ff8-99c2-492a-9a96-79cd27449238",
   "metadata": {},
   "outputs": [],
   "source": [
    "# Consists of stack of identical encoder layers. Bert Base has 12 encoderlayers and large has 24layers ( more complex relationships in context)"
   ]
  },
  {
   "cell_type": "code",
   "execution_count": null,
   "id": "ac57353b-f58c-4a7b-a357-6d4e88d37778",
   "metadata": {},
   "outputs": [],
   "source": [
    "# input is tokenized text and each token is represented as an embedding vector. Each token is converted into three types of embeddings "
   ]
  },
  {
   "cell_type": "code",
   "execution_count": null,
   "id": "3f006543-1a1b-4bd4-af98-b40b938be4bd",
   "metadata": {},
   "outputs": [],
   "source": [
    "# Token embeddings - Numerical representations of the token, specials tokens CLS and SEP are added to beginning and end of sequence"
   ]
  },
  {
   "cell_type": "code",
   "execution_count": null,
   "id": "d4b32893-ae30-41b2-a8f4-37187a33a4f8",
   "metadata": {},
   "outputs": [],
   "source": [
    "# Segment embedding - Can accept pairs of inputs and sequences and this can be distinguished here"
   ]
  },
  {
   "cell_type": "code",
   "execution_count": null,
   "id": "c2576645-8d9a-406a-b040-b3fd2961157a",
   "metadata": {},
   "outputs": [],
   "source": [
    "# Tranformer positional embeddings - encode the position of each token in the input sequence"
   ]
  },
  {
   "cell_type": "code",
   "execution_count": null,
   "id": "bb32b297-2529-471a-9006-eb12def82029",
   "metadata": {},
   "outputs": [],
   "source": [
    "# The objective of this architecture is to understand and represent this text bidirectionally"
   ]
  },
  {
   "cell_type": "code",
   "execution_count": null,
   "id": "418783e2-b81a-411a-a83b-92828837a5c6",
   "metadata": {},
   "outputs": [],
   "source": [
    "# Model pre-training  -  Mask Language Modelling - A fraction of token in each input sequence is randomly masked (15%) and model is trained\n",
    "# to predict the masked word based on the context provided by surrounded tokens. Forces model to learn bidirectional context on either side."
   ]
  },
  {
   "cell_type": "code",
   "execution_count": null,
   "id": "b2877ac6-2480-49d5-ba5b-afea52683882",
   "metadata": {},
   "outputs": [],
   "source": [
    "# Second training - next sentence prediction - predict whether twoo sentences in a pair are consecutive in the original text or not.\n",
    "# During this trianing 50% of the sentences are trained with the next sentence and the other 50% is trained with a random sentence. \n",
    "# This helps model understand relationships between sentences. This training does not require generating text, hence decoder is unnecessary"
   ]
  },
  {
   "cell_type": "code",
   "execution_count": null,
   "id": "c390c3a7-97e0-4744-b368-9f5a4a461d0a",
   "metadata": {},
   "outputs": [],
   "source": [
    "# Bert can fine tuned for a specific task by adding a task specific layer on top of the pre trained encoder layers. For example if we want\n",
    "# to sentiment analysis,  the final output layer would tranform output into a sentiment label - flexible and adaptable model"
   ]
  },
  {
   "cell_type": "code",
   "execution_count": 20,
   "id": "bcf351d0-6314-47b3-ae03-d8931d987ba1",
   "metadata": {},
   "outputs": [],
   "source": [
    "from transformers import BertForQuestionAnswering\n",
    "from transformers import BertTokenizer"
   ]
  },
  {
   "cell_type": "code",
   "execution_count": 22,
   "id": "a6742b68-c69f-4a77-9cb2-a31279a05b05",
   "metadata": {},
   "outputs": [],
   "source": [
    "import torch"
   ]
  },
  {
   "cell_type": "code",
   "execution_count": 28,
   "id": "5f559007-8e5a-4988-af05-be06cacc3e4d",
   "metadata": {},
   "outputs": [],
   "source": [
    "#model_name = \"distilbert-base-uncased-distilled-squad\"\n",
    "model_name = \"bert-large-uncased-whole-word-masking-finetuned-squad\""
   ]
  },
  {
   "cell_type": "code",
   "execution_count": 30,
   "id": "e4324aca-85f4-4db0-920d-c1966ee8ddfb",
   "metadata": {},
   "outputs": [
    {
     "data": {
      "application/vnd.jupyter.widget-view+json": {
       "model_id": "c2c793a8419e468dad5065ce9ee77927",
       "version_major": 2,
       "version_minor": 0
      },
      "text/plain": [
       "config.json:   0%|          | 0.00/443 [00:00<?, ?B/s]"
      ]
     },
     "metadata": {},
     "output_type": "display_data"
    },
    {
     "data": {
      "application/vnd.jupyter.widget-view+json": {
       "model_id": "7a55088e333646b28973fd89bd7a961b",
       "version_major": 2,
       "version_minor": 0
      },
      "text/plain": [
       "model.safetensors:   0%|          | 0.00/1.34G [00:00<?, ?B/s]"
      ]
     },
     "metadata": {},
     "output_type": "display_data"
    },
    {
     "name": "stderr",
     "output_type": "stream",
     "text": [
      "Some weights of the model checkpoint at bert-large-uncased-whole-word-masking-finetuned-squad were not used when initializing BertForQuestionAnswering: ['bert.pooler.dense.bias', 'bert.pooler.dense.weight']\n",
      "- This IS expected if you are initializing BertForQuestionAnswering from the checkpoint of a model trained on another task or with another architecture (e.g. initializing a BertForSequenceClassification model from a BertForPreTraining model).\n",
      "- This IS NOT expected if you are initializing BertForQuestionAnswering from the checkpoint of a model that you expect to be exactly identical (initializing a BertForSequenceClassification model from a BertForSequenceClassification model).\n"
     ]
    }
   ],
   "source": [
    "model = BertForQuestionAnswering.from_pretrained(model_name)"
   ]
  },
  {
   "cell_type": "code",
   "execution_count": 32,
   "id": "a7ebb646-1d32-4586-9b3d-c717f915f55f",
   "metadata": {},
   "outputs": [
    {
     "data": {
      "application/vnd.jupyter.widget-view+json": {
       "model_id": "ef7031062452426ebf3dd08882a5fd33",
       "version_major": 2,
       "version_minor": 0
      },
      "text/plain": [
       "tokenizer_config.json:   0%|          | 0.00/48.0 [00:00<?, ?B/s]"
      ]
     },
     "metadata": {},
     "output_type": "display_data"
    },
    {
     "data": {
      "application/vnd.jupyter.widget-view+json": {
       "model_id": "a62c472a4ccf4784bcefee37a3214492",
       "version_major": 2,
       "version_minor": 0
      },
      "text/plain": [
       "vocab.txt:   0%|          | 0.00/232k [00:00<?, ?B/s]"
      ]
     },
     "metadata": {},
     "output_type": "display_data"
    },
    {
     "data": {
      "application/vnd.jupyter.widget-view+json": {
       "model_id": "52a169d69cf0420998b5415a9fb53996",
       "version_major": 2,
       "version_minor": 0
      },
      "text/plain": [
       "tokenizer.json:   0%|          | 0.00/466k [00:00<?, ?B/s]"
      ]
     },
     "metadata": {},
     "output_type": "display_data"
    }
   ],
   "source": [
    "tokenizer = BertTokenizer.from_pretrained(model_name)"
   ]
  },
  {
   "cell_type": "code",
   "execution_count": 34,
   "id": "0ac22a1f-cc03-481d-a210-36191a61afc7",
   "metadata": {},
   "outputs": [],
   "source": [
    "# example question and text containing the answer\n",
    "question = \"When was the first dvd released?\"\n",
    "answer_document = \"The first DVD (Digital Versatile Disc) was released on March 24, 1997. It was a movie titled 'Twister' and was released in Japan. DVDs quickly gained popularity as a replacement for VHS tapes and became a common format for storing and distributing digital video and data.\""
   ]
  },
  {
   "cell_type": "code",
   "execution_count": null,
   "id": "c8905b66-a806-4372-ad12-57cd86831be3",
   "metadata": {},
   "outputs": [],
   "source": [
    "# Create embeddings for our question and answer"
   ]
  },
  {
   "cell_type": "code",
   "execution_count": 36,
   "id": "cf1d6fad-bf1c-42c0-872a-ec882095ea0f",
   "metadata": {},
   "outputs": [],
   "source": [
    "encoding = tokenizer.encode_plus( text = question, text_pair=answer_document)"
   ]
  },
  {
   "cell_type": "code",
   "execution_count": 38,
   "id": "f11663b3-1aa7-40af-9abe-2614945b52dc",
   "metadata": {},
   "outputs": [
    {
     "name": "stdout",
     "output_type": "stream",
     "text": [
      "{'input_ids': [101, 2043, 2001, 1996, 2034, 4966, 2207, 1029, 102, 1996, 2034, 4966, 1006, 3617, 22979, 5860, 1007, 2001, 2207, 2006, 2233, 2484, 1010, 2722, 1012, 2009, 2001, 1037, 3185, 4159, 1005, 9792, 2121, 1005, 1998, 2001, 2207, 1999, 2900, 1012, 22477, 2855, 4227, 6217, 2004, 1037, 6110, 2005, 17550, 13324, 1998, 2150, 1037, 2691, 4289, 2005, 23977, 1998, 20083, 3617, 2678, 1998, 2951, 1012, 102], 'token_type_ids': [0, 0, 0, 0, 0, 0, 0, 0, 0, 1, 1, 1, 1, 1, 1, 1, 1, 1, 1, 1, 1, 1, 1, 1, 1, 1, 1, 1, 1, 1, 1, 1, 1, 1, 1, 1, 1, 1, 1, 1, 1, 1, 1, 1, 1, 1, 1, 1, 1, 1, 1, 1, 1, 1, 1, 1, 1, 1, 1, 1, 1, 1, 1, 1, 1], 'attention_mask': [1, 1, 1, 1, 1, 1, 1, 1, 1, 1, 1, 1, 1, 1, 1, 1, 1, 1, 1, 1, 1, 1, 1, 1, 1, 1, 1, 1, 1, 1, 1, 1, 1, 1, 1, 1, 1, 1, 1, 1, 1, 1, 1, 1, 1, 1, 1, 1, 1, 1, 1, 1, 1, 1, 1, 1, 1, 1, 1, 1, 1, 1, 1, 1, 1]}\n"
     ]
    }
   ],
   "source": [
    "print(encoding)"
   ]
  },
  {
   "cell_type": "code",
   "execution_count": null,
   "id": "0e5cca6d-9c8f-4665-9ebc-1b11d43f330f",
   "metadata": {},
   "outputs": [],
   "source": [
    "# embeddings along with the special tokens added to it are in the input_ids. token_type id are used to distinguish tokens related to question"
   ]
  },
  {
   "cell_type": "code",
   "execution_count": 42,
   "id": "3c48fafa-e25a-47b6-b061-883749441f07",
   "metadata": {},
   "outputs": [],
   "source": [
    "inputs = encoding['input_ids']\n",
    "sentence_embeddings = encoding['token_type_ids']"
   ]
  },
  {
   "cell_type": "code",
   "execution_count": 46,
   "id": "121bf300-f9bd-4294-8e6b-cfcf5898c613",
   "metadata": {},
   "outputs": [],
   "source": [
    "tokens = tokenizer.convert_ids_to_tokens(inputs)"
   ]
  },
  {
   "cell_type": "code",
   "execution_count": 48,
   "id": "8558b3be-6f32-49a0-a17f-f4068caa6384",
   "metadata": {},
   "outputs": [
    {
     "name": "stdout",
     "output_type": "stream",
     "text": [
      "['[CLS]', 'when', 'was', 'the', 'first', 'dvd', 'released', '?', '[SEP]', 'the', 'first', 'dvd', '(', 'digital', 'versatile', 'disc', ')', 'was', 'released', 'on', 'march', '24', ',', '1997', '.', 'it', 'was', 'a', 'movie', 'titled', \"'\", 'twist', '##er', \"'\", 'and', 'was', 'released', 'in', 'japan', '.', 'dvds', 'quickly', 'gained', 'popularity', 'as', 'a', 'replacement', 'for', 'vhs', 'tapes', 'and', 'became', 'a', 'common', 'format', 'for', 'storing', 'and', 'distributing', 'digital', 'video', 'and', 'data', '.', '[SEP]']\n"
     ]
    }
   ],
   "source": [
    "print(tokens)"
   ]
  },
  {
   "cell_type": "code",
   "execution_count": null,
   "id": "64ef22c6-0fb9-4eb6-ba8d-4d27e46eecf8",
   "metadata": {},
   "outputs": [],
   "source": [
    "# special tokens have been added"
   ]
  },
  {
   "cell_type": "code",
   "execution_count": 52,
   "id": "7b304b7b-7ee1-4440-97a5-1dc01f9fc7c6",
   "metadata": {},
   "outputs": [],
   "source": [
    "output = model(input_ids=torch.tensor([inputs]), token_type_ids = torch.tensor([sentence_embeddings]))"
   ]
  },
  {
   "cell_type": "code",
   "execution_count": null,
   "id": "83c08911-c3d1-462d-bdc0-637b9f59f946",
   "metadata": {},
   "outputs": [],
   "source": [
    "# Bert calculates where the answer is in our text by creating start vectors and end vectors and taking the dot product of these and the final\n",
    "#embedding of each token. This output then runs through a softmax function to give a probability score. The word with the highest probability\n",
    "# is considered the correct start or end token respectively, so we want to get the star and end decisions from our output"
   ]
  },
  {
   "cell_type": "code",
   "execution_count": 54,
   "id": "61e7447b-4413-4f07-9a10-a856446f8ec4",
   "metadata": {},
   "outputs": [],
   "source": [
    "start_index = torch.argmax(output.start_logits)\n",
    "end_index = torch.argmax(output.end_logits)"
   ]
  },
  {
   "cell_type": "code",
   "execution_count": 56,
   "id": "2b1f3137-01ba-4a22-b940-60fac140d31b",
   "metadata": {},
   "outputs": [
    {
     "name": "stdout",
     "output_type": "stream",
     "text": [
      "tensor(20) tensor(23)\n"
     ]
    }
   ],
   "source": [
    "print( start_index, end_index)"
   ]
  },
  {
   "cell_type": "code",
   "execution_count": 62,
   "id": "5e9b3f4a-1fbc-46c2-8e6e-be5a2c3b82eb",
   "metadata": {},
   "outputs": [
    {
     "name": "stdout",
     "output_type": "stream",
     "text": [
      "march 24 , 1997\n"
     ]
    }
   ],
   "source": [
    "answer = ' '.join(tokens[start_index:end_index+1])\n",
    "print(answer)"
   ]
  },
  {
   "cell_type": "code",
   "execution_count": 74,
   "id": "e855aead-1363-490d-9384-55f3af20b48a",
   "metadata": {},
   "outputs": [],
   "source": [
    "import matplotlib as plt\n",
    "import seaborn as sns"
   ]
  },
  {
   "cell_type": "code",
   "execution_count": null,
   "id": "99c325dc-65f3-40f1-bdd2-b94681f5a83a",
   "metadata": {},
   "outputs": [],
   "source": [
    "# find the scores for each token,pytorch tensors and convert them to numpy array"
   ]
  },
  {
   "cell_type": "code",
   "execution_count": 76,
   "id": "ce965b8b-6678-4269-9566-57f788d67432",
   "metadata": {},
   "outputs": [],
   "source": [
    "s_scores = output.start_logits.detach().numpy().flatten()\n",
    "e_scores = output.end_logits.detach().numpy().flatten()"
   ]
  },
  {
   "cell_type": "code",
   "execution_count": null,
   "id": "1603b7d0-0d23-4e5f-8b9d-2d770f282725",
   "metadata": {},
   "outputs": [],
   "source": [
    "# use the tokens as x axis label. They all need to be unique"
   ]
  },
  {
   "cell_type": "code",
   "execution_count": 78,
   "id": "932bc77a-c688-411a-ac16-5e072c10d564",
   "metadata": {},
   "outputs": [],
   "source": [
    "token_labels =[]\n",
    "for ( i, token ) in enumerate(tokens):\n",
    "    token_labels.append('{:}-{:>2}'.format(token,i)) # creating a string where token is left aligned,index is right aligned with 2char widefield"
   ]
  },
  {
   "cell_type": "code",
   "execution_count": 82,
   "id": "7083e226-8339-4462-a7f2-cfda5f4a0813",
   "metadata": {},
   "outputs": [
    {
     "name": "stderr",
     "output_type": "stream",
     "text": [
      "/var/folders/55/z4lt05n13lggvkf4cntq7dc40000gr/T/ipykernel_90864/3826009763.py:2: UserWarning: set_ticklabels() should only be used with a fixed number of ticks, i.e. after set_ticks() or using a FixedLocator.\n",
      "  ax.set_xticklabels(ax.get_xticklabels(), rotations=90, ha=\"center\")\n"
     ]
    },
    {
     "ename": "AttributeError",
     "evalue": "Text.set() got an unexpected keyword argument 'rotations'",
     "output_type": "error",
     "traceback": [
      "\u001b[0;31m---------------------------------------------------------------------------\u001b[0m",
      "\u001b[0;31mAttributeError\u001b[0m                            Traceback (most recent call last)",
      "Cell \u001b[0;32mIn[82], line 2\u001b[0m\n\u001b[1;32m      1\u001b[0m ax \u001b[38;5;241m=\u001b[39m sns\u001b[38;5;241m.\u001b[39mbarplot(x\u001b[38;5;241m=\u001b[39mtoken_labels, y\u001b[38;5;241m=\u001b[39ms_scores)\n\u001b[0;32m----> 2\u001b[0m ax\u001b[38;5;241m.\u001b[39mset_xticklabels(ax\u001b[38;5;241m.\u001b[39mget_xticklabels(), rotations\u001b[38;5;241m=\u001b[39m\u001b[38;5;241m90\u001b[39m, ha\u001b[38;5;241m=\u001b[39m\u001b[38;5;124m\"\u001b[39m\u001b[38;5;124mcenter\u001b[39m\u001b[38;5;124m\"\u001b[39m)\n\u001b[1;32m      3\u001b[0m ax\u001b[38;5;241m.\u001b[39mgrid(\u001b[38;5;28;01mTrue\u001b[39;00m)\n",
      "File \u001b[0;32m/opt/anaconda3/lib/python3.12/site-packages/matplotlib/axes/_base.py:74\u001b[0m, in \u001b[0;36m_axis_method_wrapper.__set_name__.<locals>.wrapper\u001b[0;34m(self, *args, **kwargs)\u001b[0m\n\u001b[1;32m     73\u001b[0m \u001b[38;5;28;01mdef\u001b[39;00m \u001b[38;5;21mwrapper\u001b[39m(\u001b[38;5;28mself\u001b[39m, \u001b[38;5;241m*\u001b[39margs, \u001b[38;5;241m*\u001b[39m\u001b[38;5;241m*\u001b[39mkwargs):\n\u001b[0;32m---> 74\u001b[0m     \u001b[38;5;28;01mreturn\u001b[39;00m get_method(\u001b[38;5;28mself\u001b[39m)(\u001b[38;5;241m*\u001b[39margs, \u001b[38;5;241m*\u001b[39m\u001b[38;5;241m*\u001b[39mkwargs)\n",
      "File \u001b[0;32m/opt/anaconda3/lib/python3.12/site-packages/matplotlib/axis.py:2106\u001b[0m, in \u001b[0;36mAxis.set_ticklabels\u001b[0;34m(self, labels, minor, fontdict, **kwargs)\u001b[0m\n\u001b[1;32m   2104\u001b[0m \u001b[38;5;66;03m# deal with label1\u001b[39;00m\n\u001b[1;32m   2105\u001b[0m tick\u001b[38;5;241m.\u001b[39mlabel1\u001b[38;5;241m.\u001b[39mset_text(tick_label)\n\u001b[0;32m-> 2106\u001b[0m tick\u001b[38;5;241m.\u001b[39mlabel1\u001b[38;5;241m.\u001b[39m_internal_update(kwargs)\n\u001b[1;32m   2107\u001b[0m \u001b[38;5;66;03m# deal with label2\u001b[39;00m\n\u001b[1;32m   2108\u001b[0m tick\u001b[38;5;241m.\u001b[39mlabel2\u001b[38;5;241m.\u001b[39mset_text(tick_label)\n",
      "File \u001b[0;32m/opt/anaconda3/lib/python3.12/site-packages/matplotlib/artist.py:1216\u001b[0m, in \u001b[0;36mArtist._internal_update\u001b[0;34m(self, kwargs)\u001b[0m\n\u001b[1;32m   1209\u001b[0m \u001b[38;5;28;01mdef\u001b[39;00m \u001b[38;5;21m_internal_update\u001b[39m(\u001b[38;5;28mself\u001b[39m, kwargs):\n\u001b[1;32m   1210\u001b[0m \u001b[38;5;250m    \u001b[39m\u001b[38;5;124;03m\"\"\"\u001b[39;00m\n\u001b[1;32m   1211\u001b[0m \u001b[38;5;124;03m    Update artist properties without prenormalizing them, but generating\u001b[39;00m\n\u001b[1;32m   1212\u001b[0m \u001b[38;5;124;03m    errors as if calling `set`.\u001b[39;00m\n\u001b[1;32m   1213\u001b[0m \n\u001b[1;32m   1214\u001b[0m \u001b[38;5;124;03m    The lack of prenormalization is to maintain backcompatibility.\u001b[39;00m\n\u001b[1;32m   1215\u001b[0m \u001b[38;5;124;03m    \"\"\"\u001b[39;00m\n\u001b[0;32m-> 1216\u001b[0m     \u001b[38;5;28;01mreturn\u001b[39;00m \u001b[38;5;28mself\u001b[39m\u001b[38;5;241m.\u001b[39m_update_props(\n\u001b[1;32m   1217\u001b[0m         kwargs, \u001b[38;5;124m\"\u001b[39m\u001b[38;5;132;01m{cls.__name__}\u001b[39;00m\u001b[38;5;124m.set() got an unexpected keyword argument \u001b[39m\u001b[38;5;124m\"\u001b[39m\n\u001b[1;32m   1218\u001b[0m         \u001b[38;5;124m\"\u001b[39m\u001b[38;5;132;01m{prop_name!r}\u001b[39;00m\u001b[38;5;124m\"\u001b[39m)\n",
      "File \u001b[0;32m/opt/anaconda3/lib/python3.12/site-packages/matplotlib/artist.py:1190\u001b[0m, in \u001b[0;36mArtist._update_props\u001b[0;34m(self, props, errfmt)\u001b[0m\n\u001b[1;32m   1188\u001b[0m             func \u001b[38;5;241m=\u001b[39m \u001b[38;5;28mgetattr\u001b[39m(\u001b[38;5;28mself\u001b[39m, \u001b[38;5;124mf\u001b[39m\u001b[38;5;124m\"\u001b[39m\u001b[38;5;124mset_\u001b[39m\u001b[38;5;132;01m{\u001b[39;00mk\u001b[38;5;132;01m}\u001b[39;00m\u001b[38;5;124m\"\u001b[39m, \u001b[38;5;28;01mNone\u001b[39;00m)\n\u001b[1;32m   1189\u001b[0m             \u001b[38;5;28;01mif\u001b[39;00m \u001b[38;5;129;01mnot\u001b[39;00m \u001b[38;5;28mcallable\u001b[39m(func):\n\u001b[0;32m-> 1190\u001b[0m                 \u001b[38;5;28;01mraise\u001b[39;00m \u001b[38;5;167;01mAttributeError\u001b[39;00m(\n\u001b[1;32m   1191\u001b[0m                     errfmt\u001b[38;5;241m.\u001b[39mformat(\u001b[38;5;28mcls\u001b[39m\u001b[38;5;241m=\u001b[39m\u001b[38;5;28mtype\u001b[39m(\u001b[38;5;28mself\u001b[39m), prop_name\u001b[38;5;241m=\u001b[39mk))\n\u001b[1;32m   1192\u001b[0m             ret\u001b[38;5;241m.\u001b[39mappend(func(v))\n\u001b[1;32m   1193\u001b[0m \u001b[38;5;28;01mif\u001b[39;00m ret:\n",
      "\u001b[0;31mAttributeError\u001b[0m: Text.set() got an unexpected keyword argument 'rotations'"
     ]
    },
    {
     "data": {
      "image/png": "[encoded data removed]",
      "text/plain": [
       "<Figure size 640x480 with 1 Axes>"
      ]
     },
     "metadata": {},
     "output_type": "display_data"
    }
   ],
   "source": [
    "ax = sns.barplot(x=token_labels, y=s_scores) # bar plot for start scores\n",
    "ax.set_xticklabels(ax.get_xticklabels(), rotations=90, ha=\"center\")\n",
    "ax.grid(True) # vertical grid to align the word to the scores"
   ]
  },
  {
   "cell_type": "code",
   "execution_count": 84,
   "id": "620e9c65-a00c-47db-ba82-893c93f431d9",
   "metadata": {},
   "outputs": [
    {
     "name": "stderr",
     "output_type": "stream",
     "text": [
      "/var/folders/55/z4lt05n13lggvkf4cntq7dc40000gr/T/ipykernel_90864/1129150506.py:2: UserWarning: set_ticklabels() should only be used with a fixed number of ticks, i.e. after set_ticks() or using a FixedLocator.\n",
      "  ax.set_xticklabels(ax.get_xticklabels(), rotations=90, ha=\"center\")\n"
     ]
    },
    {
     "ename": "AttributeError",
     "evalue": "Text.set() got an unexpected keyword argument 'rotations'",
     "output_type": "error",
     "traceback": [
      "\u001b[0;31m---------------------------------------------------------------------------\u001b[0m",
      "\u001b[0;31mAttributeError\u001b[0m                            Traceback (most recent call last)",
      "Cell \u001b[0;32mIn[84], line 2\u001b[0m\n\u001b[1;32m      1\u001b[0m ax \u001b[38;5;241m=\u001b[39m sns\u001b[38;5;241m.\u001b[39mbarplot(x\u001b[38;5;241m=\u001b[39mtoken_labels, y\u001b[38;5;241m=\u001b[39me_scores) \u001b[38;5;66;03m# bar plot for start scores\u001b[39;00m\n\u001b[0;32m----> 2\u001b[0m ax\u001b[38;5;241m.\u001b[39mset_xticklabels(ax\u001b[38;5;241m.\u001b[39mget_xticklabels(), rotations\u001b[38;5;241m=\u001b[39m\u001b[38;5;241m90\u001b[39m, ha\u001b[38;5;241m=\u001b[39m\u001b[38;5;124m\"\u001b[39m\u001b[38;5;124mcenter\u001b[39m\u001b[38;5;124m\"\u001b[39m)\n\u001b[1;32m      3\u001b[0m ax\u001b[38;5;241m.\u001b[39mgrid(\u001b[38;5;28;01mTrue\u001b[39;00m)\n",
      "File \u001b[0;32m/opt/anaconda3/lib/python3.12/site-packages/matplotlib/axes/_base.py:74\u001b[0m, in \u001b[0;36m_axis_method_wrapper.__set_name__.<locals>.wrapper\u001b[0;34m(self, *args, **kwargs)\u001b[0m\n\u001b[1;32m     73\u001b[0m \u001b[38;5;28;01mdef\u001b[39;00m \u001b[38;5;21mwrapper\u001b[39m(\u001b[38;5;28mself\u001b[39m, \u001b[38;5;241m*\u001b[39margs, \u001b[38;5;241m*\u001b[39m\u001b[38;5;241m*\u001b[39mkwargs):\n\u001b[0;32m---> 74\u001b[0m     \u001b[38;5;28;01mreturn\u001b[39;00m get_method(\u001b[38;5;28mself\u001b[39m)(\u001b[38;5;241m*\u001b[39margs, \u001b[38;5;241m*\u001b[39m\u001b[38;5;241m*\u001b[39mkwargs)\n",
      "File \u001b[0;32m/opt/anaconda3/lib/python3.12/site-packages/matplotlib/axis.py:2106\u001b[0m, in \u001b[0;36mAxis.set_ticklabels\u001b[0;34m(self, labels, minor, fontdict, **kwargs)\u001b[0m\n\u001b[1;32m   2104\u001b[0m \u001b[38;5;66;03m# deal with label1\u001b[39;00m\n\u001b[1;32m   2105\u001b[0m tick\u001b[38;5;241m.\u001b[39mlabel1\u001b[38;5;241m.\u001b[39mset_text(tick_label)\n\u001b[0;32m-> 2106\u001b[0m tick\u001b[38;5;241m.\u001b[39mlabel1\u001b[38;5;241m.\u001b[39m_internal_update(kwargs)\n\u001b[1;32m   2107\u001b[0m \u001b[38;5;66;03m# deal with label2\u001b[39;00m\n\u001b[1;32m   2108\u001b[0m tick\u001b[38;5;241m.\u001b[39mlabel2\u001b[38;5;241m.\u001b[39mset_text(tick_label)\n",
      "File \u001b[0;32m/opt/anaconda3/lib/python3.12/site-packages/matplotlib/artist.py:1216\u001b[0m, in \u001b[0;36mArtist._internal_update\u001b[0;34m(self, kwargs)\u001b[0m\n\u001b[1;32m   1209\u001b[0m \u001b[38;5;28;01mdef\u001b[39;00m \u001b[38;5;21m_internal_update\u001b[39m(\u001b[38;5;28mself\u001b[39m, kwargs):\n\u001b[1;32m   1210\u001b[0m \u001b[38;5;250m    \u001b[39m\u001b[38;5;124;03m\"\"\"\u001b[39;00m\n\u001b[1;32m   1211\u001b[0m \u001b[38;5;124;03m    Update artist properties without prenormalizing them, but generating\u001b[39;00m\n\u001b[1;32m   1212\u001b[0m \u001b[38;5;124;03m    errors as if calling `set`.\u001b[39;00m\n\u001b[1;32m   1213\u001b[0m \n\u001b[1;32m   1214\u001b[0m \u001b[38;5;124;03m    The lack of prenormalization is to maintain backcompatibility.\u001b[39;00m\n\u001b[1;32m   1215\u001b[0m \u001b[38;5;124;03m    \"\"\"\u001b[39;00m\n\u001b[0;32m-> 1216\u001b[0m     \u001b[38;5;28;01mreturn\u001b[39;00m \u001b[38;5;28mself\u001b[39m\u001b[38;5;241m.\u001b[39m_update_props(\n\u001b[1;32m   1217\u001b[0m         kwargs, \u001b[38;5;124m\"\u001b[39m\u001b[38;5;132;01m{cls.__name__}\u001b[39;00m\u001b[38;5;124m.set() got an unexpected keyword argument \u001b[39m\u001b[38;5;124m\"\u001b[39m\n\u001b[1;32m   1218\u001b[0m         \u001b[38;5;124m\"\u001b[39m\u001b[38;5;132;01m{prop_name!r}\u001b[39;00m\u001b[38;5;124m\"\u001b[39m)\n",
      "File \u001b[0;32m/opt/anaconda3/lib/python3.12/site-packages/matplotlib/artist.py:1190\u001b[0m, in \u001b[0;36mArtist._update_props\u001b[0;34m(self, props, errfmt)\u001b[0m\n\u001b[1;32m   1188\u001b[0m             func \u001b[38;5;241m=\u001b[39m \u001b[38;5;28mgetattr\u001b[39m(\u001b[38;5;28mself\u001b[39m, \u001b[38;5;124mf\u001b[39m\u001b[38;5;124m\"\u001b[39m\u001b[38;5;124mset_\u001b[39m\u001b[38;5;132;01m{\u001b[39;00mk\u001b[38;5;132;01m}\u001b[39;00m\u001b[38;5;124m\"\u001b[39m, \u001b[38;5;28;01mNone\u001b[39;00m)\n\u001b[1;32m   1189\u001b[0m             \u001b[38;5;28;01mif\u001b[39;00m \u001b[38;5;129;01mnot\u001b[39;00m \u001b[38;5;28mcallable\u001b[39m(func):\n\u001b[0;32m-> 1190\u001b[0m                 \u001b[38;5;28;01mraise\u001b[39;00m \u001b[38;5;167;01mAttributeError\u001b[39;00m(\n\u001b[1;32m   1191\u001b[0m                     errfmt\u001b[38;5;241m.\u001b[39mformat(\u001b[38;5;28mcls\u001b[39m\u001b[38;5;241m=\u001b[39m\u001b[38;5;28mtype\u001b[39m(\u001b[38;5;28mself\u001b[39m), prop_name\u001b[38;5;241m=\u001b[39mk))\n\u001b[1;32m   1192\u001b[0m             ret\u001b[38;5;241m.\u001b[39mappend(func(v))\n\u001b[1;32m   1193\u001b[0m \u001b[38;5;28;01mif\u001b[39;00m ret:\n",
      "\u001b[0;31mAttributeError\u001b[0m: Text.set() got an unexpected keyword argument 'rotations'"
     ]
    },
    {
     "data": {
      "image/png": "[encoded data removed]",
      "text/plain": [
       "<Figure size 640x480 with 1 Axes>"
      ]
     },
     "metadata": {},
     "output_type": "display_data"
    }
   ],
   "source": [
    "ax = sns.barplot(x=token_labels, y=e_scores) # bar plot for start scores\n",
    "ax.set_xticklabels(ax.get_xticklabels(), rotations=90, ha=\"center\")\n",
    "ax.grid(True) # vertical grid to align the word to the scores"
   ]
  },
  {
   "cell_type": "code",
   "execution_count": null,
   "id": "4dc9c7fe-6593-4717-babf-95bd5e6bf45a",
   "metadata": {},
   "outputs": [],
   "source": []
  },
  {
   "cell_type": "code",
   "execution_count": null,
   "id": "9b82eb1c-a8b7-47d5-9f1a-7fcb83547cd9",
   "metadata": {},
   "outputs": [],
   "source": []
  },
  {
   "cell_type": "code",
   "execution_count": null,
   "id": "2c1766c3-7445-4dd2-a4a3-4cb20399308a",
   "metadata": {},
   "outputs": [],
   "source": []
  }
 ],
 "metadata": {
  "kernelspec": {
   "display_name": "Python 3 (ipykernel)",
   "language": "python",
   "name": "python3"
  },
  "language_info": {
   "codemirror_mode": {
    "name": "ipython",
    "version": 3
   },
   "file_extension": ".py",
   "mimetype": "text/x-python",
   "name": "python",
   "nbconvert_exporter": "python",
   "pygments_lexer": "ipython3",
   "version": "3.12.7"
  }
 },
 "nbformat": 4,
 "nbformat_minor": 5
}
