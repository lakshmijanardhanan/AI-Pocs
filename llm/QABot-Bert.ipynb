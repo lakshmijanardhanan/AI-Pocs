{
 "cells": [
  {
   "cell_type": "code",
   "execution_count": 22,
   "id": "e76cbd08-ab36-44b2-b876-d111b7eee4ed",
   "metadata": {},
   "outputs": [],
   "source": [
    "amwell_company_context = \"Amwell digitally empowers your healthcare ambitions. Our comprehensive, future-ready Converge™ platform enables hybrid care delivery at scale, anytime and any place—a care experience so seamless that it becomes simply healthcare.Transform siloed telehealth transactions into integrated, informed experiences. Select individual or multiple solutions that work together to power care through a single platform and improve healthcare for all.We connect providers, payers and innovators, working alongside them to create an ecosystem of care that spans across in-person, virtual and automated care.It starts with our future-ready platform—a convergence of technologies, services and devices that enables care delivery at scale, anytime and any place.Our “One Team” focus to digitally transform healthcare delivery and access starts at the top. Our co-founders are pioneers of virtual healthcare and experienced entrepreneurs with a proven track record of successfully founding, growing and leading multiple companies. Our senior leadership team consists of some of the brightest minds in the industry, bringing together an extensive operational experience in healthcare, technology and services.We serve 115 healthsystems, 50 health partners, with 3K active providers and 100M+ active members. We have visit success rate of 98%, 99.9% uptime on the platform and 90% provider patient thumbs up rate.\""
   ]
  },
  {
   "cell_type": "code",
   "execution_count": 24,
   "id": "4d8216e3-7200-4d4b-8a78-1221e73c6f0a",
   "metadata": {},
   "outputs": [
    {
     "name": "stdout",
     "output_type": "stream",
     "text": [
      "Amwell digitally empowers your healthcare ambitions. Our comprehensive, future-ready Converge™ platform enables hybrid care delivery at scale, anytime and any place—a care experience so seamless that it becomes simply healthcare.Transform siloed telehealth transactions into integrated, informed experiences. Select individual or multiple solutions that work together to power care through a single platform and improve healthcare for all.We connect providers, payers and innovators, working alongside them to create an ecosystem of care that spans across in-person, virtual and automated care.It starts with our future-ready platform—a convergence of technologies, services and devices that enables care delivery at scale, anytime and any place.Our “One Team” focus to digitally transform healthcare delivery and access starts at the top. Our co-founders are pioneers of virtual healthcare and experienced entrepreneurs with a proven track record of successfully founding, growing and leading multiple companies. Our senior leadership team consists of some of the brightest minds in the industry, bringing together an extensive operational experience in healthcare, technology and services.We serve 115 healthsystems, 50 health partners, with 3K active providers and 100M+ active members. We have visit success rate of 98%, 99.9% uptime on the platform and 90% provider patient thumbs up rate.\n"
     ]
    }
   ],
   "source": [
    "print(amwell_company_context)"
   ]
  },
  {
   "cell_type": "code",
   "execution_count": 28,
   "id": "05a5f8d0-bce1-4b7b-8725-95cea95efcbb",
   "metadata": {},
   "outputs": [],
   "source": [
    "from transformers import BertForQuestionAnswering\n",
    "from transformers import BertTokenizer\n",
    "import torch"
   ]
  },
  {
   "cell_type": "code",
   "execution_count": 30,
   "id": "23d844ea-5d43-4f89-8a35-299b669e88cf",
   "metadata": {},
   "outputs": [],
   "source": [
    "model_name = \"bert-large-uncased-whole-word-masking-finetuned-squad\""
   ]
  },
  {
   "cell_type": "code",
   "execution_count": 32,
   "id": "357c8192-08ed-47a8-9d6c-062e3abcc686",
   "metadata": {},
   "outputs": [
    {
     "name": "stderr",
     "output_type": "stream",
     "text": [
      "Some weights of the model checkpoint at bert-large-uncased-whole-word-masking-finetuned-squad were not used when initializing BertForQuestionAnswering: ['bert.pooler.dense.bias', 'bert.pooler.dense.weight']\n",
      "- This IS expected if you are initializing BertForQuestionAnswering from the checkpoint of a model trained on another task or with another architecture (e.g. initializing a BertForSequenceClassification model from a BertForPreTraining model).\n",
      "- This IS NOT expected if you are initializing BertForQuestionAnswering from the checkpoint of a model that you expect to be exactly identical (initializing a BertForSequenceClassification model from a BertForSequenceClassification model).\n"
     ]
    }
   ],
   "source": [
    "model = BertForQuestionAnswering.from_pretrained(model_name)"
   ]
  },
  {
   "cell_type": "code",
   "execution_count": 34,
   "id": "bc2fa48f-753e-4d9b-b0f8-b4cb2c6df4bc",
   "metadata": {},
   "outputs": [],
   "source": [
    "tokenizer = BertTokenizer.from_pretrained(model_name)"
   ]
  },
  {
   "cell_type": "code",
   "execution_count": 70,
   "id": "d971065e-ef30-49b1-bdc2-ce58a8bfe028",
   "metadata": {},
   "outputs": [],
   "source": [
    "def faq_bot(question):\n",
    "    context = amwell_company_context\n",
    "    input_ids = tokenizer.encode( question, context)\n",
    "    tokens = tokenizer.convert_ids_to_tokens( input_ids)\n",
    "    sep_id_index= input_ids.index(tokenizer.sep_token_id) # Find the SEP index which sepperates the question from the context in the encoding\n",
    "    # Create segment embeddings by finding our seperator tokens from our list of input ids)\n",
    "    # Calculate the number of tokens in segment a and b.\n",
    "    num_seg_a = sep_id_index+1 #: Number of tokens in the first segment (question +\n",
    "    num_seg_b =len(input_ids)- num_seg_a # : Number of tokens in the second segment (context).\n",
    "    # create list of segment ids with 0s for each token indicating segment 1 and 1s for each token indicating segment 2\n",
    "    segement_ids = [0]*num_seg_a + [1]*num_seg_b\n",
    "    # feed all this into our model, convert our input ids and token type ids into a torch tensor\n",
    "    output = model(torch.tensor([input_ids]), token_type_ids = torch.tensor([segement_ids])) # pass the input ids and sewgment ids into a Bert model\n",
    "    answer_start = torch.argmax(output.start_logits) # Find the start and end position of the answer in the sequence\n",
    "    answer_end = torch.argmax(output.end_logits)  \n",
    "    if answer_end >= answer_start:\n",
    "        answer = ' '.join(tokens[answer_start:answer_end+1])\n",
    "    else: \n",
    "        print(\" I dont know the answer to this question, can you ask another one?\")\n",
    "    # Remove any unnecessary ## that may be there from processing with the corrected answer    \n",
    "    corrected_answer = ''\n",
    "    for word in answer.split():\n",
    "        if word[0:2] == '##':\n",
    "            corrected_answer += word[2:]\n",
    "        else:\n",
    "            corrected_answer += ' '+ word\n",
    "            \n",
    "    return corrected_answer"
   ]
  },
  {
   "cell_type": "code",
   "execution_count": 72,
   "id": "a5761620-bd4e-4ab5-86a0-267147c3cc5c",
   "metadata": {},
   "outputs": [
    {
     "data": {
      "text/plain": [
       "' 115'"
      ]
     },
     "execution_count": 72,
     "metadata": {},
     "output_type": "execute_result"
    }
   ],
   "source": [
    "faq_bot(\"How many healthsystems does Amwell serve\")"
   ]
  },
  {
   "cell_type": "code",
   "execution_count": 74,
   "id": "2121066e-7a79-4a57-87c3-87ef50647599",
   "metadata": {},
   "outputs": [
    {
     "data": {
      "text/plain": [
       "' our comprehensive , future - ready converge™ platform enables hybrid care delivery at scale , anytime and any place'"
      ]
     },
     "execution_count": 74,
     "metadata": {},
     "output_type": "execute_result"
    }
   ],
   "source": [
    "faq_bot(\"What is Converge\")"
   ]
  },
  {
   "cell_type": "code",
   "execution_count": null,
   "id": "76d01d3e-b99e-4ebe-8230-9e9af84742c3",
   "metadata": {},
   "outputs": [],
   "source": [
    "# This would be really powerful if we can bind it with a land ghain framework to bring in custom data."
   ]
  },
  {
   "cell_type": "code",
   "execution_count": null,
   "id": "eb54ab19-0d0c-4790-8cc8-737b96794b07",
   "metadata": {},
   "outputs": [],
   "source": []
  },
  {
   "cell_type": "code",
   "execution_count": null,
   "id": "2442ac93-7077-4fe2-bb96-0bfc76e00865",
   "metadata": {},
   "outputs": [],
   "source": []
  }
 ],
 "metadata": {
  "kernelspec": {
   "display_name": "Python 3 (ipykernel)",
   "language": "python",
   "name": "python3"
  },
  "language_info": {
   "codemirror_mode": {
    "name": "ipython",
    "version": 3
   },
   "file_extension": ".py",
   "mimetype": "text/x-python",
   "name": "python",
   "nbconvert_exporter": "python",
   "pygments_lexer": "ipython3",
   "version": "3.12.7"
  }
 },
 "nbformat": 4,
 "nbformat_minor": 5
}
