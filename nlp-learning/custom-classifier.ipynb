{
 "cells": [
  {
   "cell_type": "code",
   "execution_count": 7,
   "id": "2cae72c5-360c-49c5-9765-35ff9d380564",
   "metadata": {},
   "outputs": [],
   "source": [
    "# Supervised machine learning problem - classifying text using your own custom labels to create a custom classifier"
   ]
  },
  {
   "cell_type": "code",
   "execution_count": 8,
   "id": "751a513c-79ce-4bfc-acb1-5b17cba1f9a8",
   "metadata": {},
   "outputs": [],
   "source": [
    "# Using classification algorithms such as Logic regression, Naive Bayes and Linear SVM"
   ]
  },
  {
   "cell_type": "code",
   "execution_count": 9,
   "id": "66e58ebf-8a30-4e86-843a-77568b5dc458",
   "metadata": {},
   "outputs": [],
   "source": [
    "# Logistic regression is a good baseline model to start with to classify our text"
   ]
  },
  {
   "cell_type": "code",
   "execution_count": 10,
   "id": "26d7bab8-b712-4669-a5d8-1a4c97b2fee3",
   "metadata": {},
   "outputs": [],
   "source": [
    "import pandas as pd\n",
    "from sklearn.feature_extraction.text import CountVectorizer\n",
    "from sklearn.model_selection import train_test_split\n",
    "from sklearn.linear_model import LogisticRegression\n",
    "from sklearn.metrics import accuracy_score, classification_report"
   ]
  },
  {
   "cell_type": "code",
   "execution_count": 11,
   "id": "6a24be47-ebcb-4d39-afee-1f1512b90c32",
   "metadata": {},
   "outputs": [],
   "source": [
    "# sklearn package is quite large and we wont be importing all of it. We will be only importing the functions that we need."
   ]
  },
  {
   "cell_type": "code",
   "execution_count": null,
   "id": "000477ce-5918-4cb7-8399-79b304646d25",
   "metadata": {},
   "outputs": [],
   "source": [
    "# Creating an algorithm that can classify the sentence by our sentiment score. We want to build our own custom model "
   ]
  },
  {
   "cell_type": "code",
   "execution_count": 12,
   "id": "ad1bf7fb-5a76-4cfb-9517-59cea49b1bc3",
   "metadata": {},
   "outputs": [],
   "source": [
    "import pandas as pd"
   ]
  },
  {
   "cell_type": "code",
   "execution_count": 13,
   "id": "034df6e1-1e58-4cd2-8d46-20919d8735ad",
   "metadata": {},
   "outputs": [],
   "source": [
    "# This is a sample data of texts and their associated sentiments\n",
    "data = pd.DataFrame([(\"i love spending time with my friends and family\", \"positive\"),\n",
    "                     (\"that was the best meal i've ever had in my life\", \"positive\"),\n",
    "                     (\"i feel so grateful for everything i have in my life\", \"positive\"),\n",
    "                     (\"i received a promotion at work and i couldn't be happier\", \"positive\"),\n",
    "                     (\"watching a beautiful sunset always fills me with joy\", \"positive\"),\n",
    "                     (\"my partner surprised me with a thoughtful gift and it made my day\", \"positive\"),\n",
    "                     (\"i am so proud of my daughter for graduating with honors\", \"positive\"),\n",
    "                     (\"listening to my favorite music always puts me in a good mood\", \"positive\"),\n",
    "                     (\"i love the feeling of accomplishment after completing a challenging task\", \"positive\"),\n",
    "                     (\"i am excited to go on vacation next week\", \"positive\"),\n",
    "                     (\"i feel so overwhelmed with work and responsibilities\", \"negative\"),\n",
    "                     (\"the traffic during my commute is always so frustrating\", \"negative\"),\n",
    "                     (\"i received a parking ticket and it ruined my day\", \"negative\"),\n",
    "                     (\"i got into an argument with my partner and we're not speaking\", \"negative\"),\n",
    "                     (\"i have a headache and i feel terrible\", \"negative\"),\n",
    "                     (\"i received a rejection letter for the job i really wanted\", \"negative\"),\n",
    "                     (\"my car broke down and it's going to be expensive to fix\", \"negative\"),\n",
    "                     (\"i'm feeling sad because i miss my friends who live far away\", \"negative\"),\n",
    "                     (\"i'm frustrated because i can't seem to make progress on my project\", \"negative\"),\n",
    "                     (\"i'm disappointed because my team lost the game\", \"negative\")\n",
    "                    ],\n",
    "                    columns=['text', 'sentiment'])"
   ]
  },
  {
   "cell_type": "code",
   "execution_count": null,
   "id": "0154598e-a1ff-4471-9c04-581695d08528",
   "metadata": {},
   "outputs": [],
   "source": [
    "# Shuffle the data so that we have a nice mix of positive and negative sentiment in the text\n",
    "# sample function is to obtain a random sample of rows from the dataframe. frac=1 means sampling 100% of data effectively shuffling the data\n",
    "#reset index resets the index of the dataframe and drop=True doesnt retain the old index"
   ]
  },
  {
   "cell_type": "code",
   "execution_count": 31,
   "id": "84021bb0-e985-42a7-ae6f-d6f50ba67c61",
   "metadata": {},
   "outputs": [],
   "source": [
    "data = data.sample(frac=1).reset_index(drop=True)"
   ]
  },
  {
   "cell_type": "code",
   "execution_count": 33,
   "id": "8582f549-3a36-4054-9593-9dbafe9bf5c8",
   "metadata": {},
   "outputs": [],
   "source": [
    "# Create our x and y to feed into our alogrithm"
   ]
  },
  {
   "cell_type": "code",
   "execution_count": 35,
   "id": "34afcfaa-007c-47b3-86d6-1a9e64deb73f",
   "metadata": {},
   "outputs": [],
   "source": [
    "x = data['text']\n",
    "y= data['sentiment']"
   ]
  },
  {
   "cell_type": "code",
   "execution_count": 37,
   "id": "faff1fd6-db71-4758-a3ff-c61b0915d185",
   "metadata": {},
   "outputs": [],
   "source": [
    "# Implement text vectorization using bag of words"
   ]
  },
  {
   "cell_type": "code",
   "execution_count": 39,
   "id": "15242d82-a7b1-4937-80a5-81ab66d7350d",
   "metadata": {},
   "outputs": [],
   "source": [
    "# CountVectorizer converts text documents to matrix of tokens that ML alogrithms can work with. fit learns the vocabulary from corpus \n",
    "# identifying all unique words and mapping them to feature indices. tranforms generates a matrix where each row is a document and each column\n",
    "# is a token from the vocabulary. The values of matrix are counts of each token in each document."
   ]
  },
  {
   "cell_type": "code",
   "execution_count": 41,
   "id": "a257a451-5638-4a48-9a35-c1ee46b73a55",
   "metadata": {},
   "outputs": [],
   "source": [
    "countvec = CountVectorizer()"
   ]
  },
  {
   "cell_type": "code",
   "execution_count": 43,
   "id": "ee391e93-b9aa-4823-ae92-c9e939170a83",
   "metadata": {},
   "outputs": [],
   "source": [
    "countvec_fit = countvec.fit_transform(x)"
   ]
  },
  {
   "cell_type": "code",
   "execution_count": null,
   "id": "82d330ee-5d18-4f1f-b005-dbfb3f7db0bd",
   "metadata": {},
   "outputs": [],
   "source": [
    "# Convert into pandas dataframe. Our column names c"
   ]
  },
  {
   "cell_type": "code",
   "execution_count": 47,
   "id": "b0a4628d-7a60-4f0c-9116-009edb290355",
   "metadata": {},
   "outputs": [],
   "source": [
    "bag_of_words = pd.DataFrame(countvec_fit.toarray(), columns = countvec.get_feature_names_out())"
   ]
  },
  {
   "cell_type": "code",
   "execution_count": 49,
   "id": "58964159-022a-4583-9c77-e525dc503234",
   "metadata": {},
   "outputs": [
    {
     "data": {
      "text/html": [
       "<div>\n",
       "<style scoped>\n",
       "    .dataframe tbody tr th:only-of-type {\n",
       "        vertical-align: middle;\n",
       "    }\n",
       "\n",
       "    .dataframe tbody tr th {\n",
       "        vertical-align: top;\n",
       "    }\n",
       "\n",
       "    .dataframe thead th {\n",
       "        text-align: right;\n",
       "    }\n",
       "</style>\n",
       "<table border=\"1\" class=\"dataframe\">\n",
       "  <thead>\n",
       "    <tr style=\"text-align: right;\">\n",
       "      <th></th>\n",
       "      <th>accomplishment</th>\n",
       "      <th>after</th>\n",
       "      <th>always</th>\n",
       "      <th>am</th>\n",
       "      <th>an</th>\n",
       "      <th>and</th>\n",
       "      <th>argument</th>\n",
       "      <th>at</th>\n",
       "      <th>away</th>\n",
       "      <th>be</th>\n",
       "      <th>...</th>\n",
       "      <th>vacation</th>\n",
       "      <th>ve</th>\n",
       "      <th>wanted</th>\n",
       "      <th>was</th>\n",
       "      <th>watching</th>\n",
       "      <th>we</th>\n",
       "      <th>week</th>\n",
       "      <th>who</th>\n",
       "      <th>with</th>\n",
       "      <th>work</th>\n",
       "    </tr>\n",
       "  </thead>\n",
       "  <tbody>\n",
       "    <tr>\n",
       "      <th>0</th>\n",
       "      <td>0</td>\n",
       "      <td>0</td>\n",
       "      <td>0</td>\n",
       "      <td>1</td>\n",
       "      <td>0</td>\n",
       "      <td>0</td>\n",
       "      <td>0</td>\n",
       "      <td>0</td>\n",
       "      <td>0</td>\n",
       "      <td>0</td>\n",
       "      <td>...</td>\n",
       "      <td>1</td>\n",
       "      <td>0</td>\n",
       "      <td>0</td>\n",
       "      <td>0</td>\n",
       "      <td>0</td>\n",
       "      <td>0</td>\n",
       "      <td>1</td>\n",
       "      <td>0</td>\n",
       "      <td>0</td>\n",
       "      <td>0</td>\n",
       "    </tr>\n",
       "    <tr>\n",
       "      <th>1</th>\n",
       "      <td>0</td>\n",
       "      <td>0</td>\n",
       "      <td>0</td>\n",
       "      <td>0</td>\n",
       "      <td>0</td>\n",
       "      <td>1</td>\n",
       "      <td>0</td>\n",
       "      <td>0</td>\n",
       "      <td>0</td>\n",
       "      <td>0</td>\n",
       "      <td>...</td>\n",
       "      <td>0</td>\n",
       "      <td>0</td>\n",
       "      <td>0</td>\n",
       "      <td>0</td>\n",
       "      <td>0</td>\n",
       "      <td>0</td>\n",
       "      <td>0</td>\n",
       "      <td>0</td>\n",
       "      <td>1</td>\n",
       "      <td>1</td>\n",
       "    </tr>\n",
       "    <tr>\n",
       "      <th>2</th>\n",
       "      <td>0</td>\n",
       "      <td>0</td>\n",
       "      <td>0</td>\n",
       "      <td>0</td>\n",
       "      <td>0</td>\n",
       "      <td>0</td>\n",
       "      <td>0</td>\n",
       "      <td>0</td>\n",
       "      <td>0</td>\n",
       "      <td>0</td>\n",
       "      <td>...</td>\n",
       "      <td>0</td>\n",
       "      <td>1</td>\n",
       "      <td>0</td>\n",
       "      <td>1</td>\n",
       "      <td>0</td>\n",
       "      <td>0</td>\n",
       "      <td>0</td>\n",
       "      <td>0</td>\n",
       "      <td>0</td>\n",
       "      <td>0</td>\n",
       "    </tr>\n",
       "    <tr>\n",
       "      <th>3</th>\n",
       "      <td>0</td>\n",
       "      <td>0</td>\n",
       "      <td>0</td>\n",
       "      <td>0</td>\n",
       "      <td>0</td>\n",
       "      <td>0</td>\n",
       "      <td>0</td>\n",
       "      <td>0</td>\n",
       "      <td>0</td>\n",
       "      <td>0</td>\n",
       "      <td>...</td>\n",
       "      <td>0</td>\n",
       "      <td>0</td>\n",
       "      <td>0</td>\n",
       "      <td>0</td>\n",
       "      <td>0</td>\n",
       "      <td>0</td>\n",
       "      <td>0</td>\n",
       "      <td>0</td>\n",
       "      <td>0</td>\n",
       "      <td>0</td>\n",
       "    </tr>\n",
       "    <tr>\n",
       "      <th>4</th>\n",
       "      <td>0</td>\n",
       "      <td>0</td>\n",
       "      <td>0</td>\n",
       "      <td>0</td>\n",
       "      <td>0</td>\n",
       "      <td>1</td>\n",
       "      <td>0</td>\n",
       "      <td>0</td>\n",
       "      <td>0</td>\n",
       "      <td>0</td>\n",
       "      <td>...</td>\n",
       "      <td>0</td>\n",
       "      <td>0</td>\n",
       "      <td>0</td>\n",
       "      <td>0</td>\n",
       "      <td>0</td>\n",
       "      <td>0</td>\n",
       "      <td>0</td>\n",
       "      <td>0</td>\n",
       "      <td>1</td>\n",
       "      <td>0</td>\n",
       "    </tr>\n",
       "    <tr>\n",
       "      <th>5</th>\n",
       "      <td>0</td>\n",
       "      <td>0</td>\n",
       "      <td>0</td>\n",
       "      <td>1</td>\n",
       "      <td>0</td>\n",
       "      <td>0</td>\n",
       "      <td>0</td>\n",
       "      <td>0</td>\n",
       "      <td>0</td>\n",
       "      <td>0</td>\n",
       "      <td>...</td>\n",
       "      <td>0</td>\n",
       "      <td>0</td>\n",
       "      <td>0</td>\n",
       "      <td>0</td>\n",
       "      <td>0</td>\n",
       "      <td>0</td>\n",
       "      <td>0</td>\n",
       "      <td>0</td>\n",
       "      <td>1</td>\n",
       "      <td>0</td>\n",
       "    </tr>\n",
       "    <tr>\n",
       "      <th>6</th>\n",
       "      <td>0</td>\n",
       "      <td>0</td>\n",
       "      <td>0</td>\n",
       "      <td>0</td>\n",
       "      <td>0</td>\n",
       "      <td>1</td>\n",
       "      <td>0</td>\n",
       "      <td>0</td>\n",
       "      <td>0</td>\n",
       "      <td>0</td>\n",
       "      <td>...</td>\n",
       "      <td>0</td>\n",
       "      <td>0</td>\n",
       "      <td>0</td>\n",
       "      <td>0</td>\n",
       "      <td>0</td>\n",
       "      <td>0</td>\n",
       "      <td>0</td>\n",
       "      <td>0</td>\n",
       "      <td>0</td>\n",
       "      <td>0</td>\n",
       "    </tr>\n",
       "    <tr>\n",
       "      <th>7</th>\n",
       "      <td>0</td>\n",
       "      <td>0</td>\n",
       "      <td>0</td>\n",
       "      <td>0</td>\n",
       "      <td>0</td>\n",
       "      <td>0</td>\n",
       "      <td>0</td>\n",
       "      <td>0</td>\n",
       "      <td>1</td>\n",
       "      <td>0</td>\n",
       "      <td>...</td>\n",
       "      <td>0</td>\n",
       "      <td>0</td>\n",
       "      <td>0</td>\n",
       "      <td>0</td>\n",
       "      <td>0</td>\n",
       "      <td>0</td>\n",
       "      <td>0</td>\n",
       "      <td>1</td>\n",
       "      <td>0</td>\n",
       "      <td>0</td>\n",
       "    </tr>\n",
       "    <tr>\n",
       "      <th>8</th>\n",
       "      <td>0</td>\n",
       "      <td>0</td>\n",
       "      <td>0</td>\n",
       "      <td>0</td>\n",
       "      <td>0</td>\n",
       "      <td>1</td>\n",
       "      <td>0</td>\n",
       "      <td>0</td>\n",
       "      <td>0</td>\n",
       "      <td>0</td>\n",
       "      <td>...</td>\n",
       "      <td>0</td>\n",
       "      <td>0</td>\n",
       "      <td>0</td>\n",
       "      <td>0</td>\n",
       "      <td>0</td>\n",
       "      <td>0</td>\n",
       "      <td>0</td>\n",
       "      <td>0</td>\n",
       "      <td>0</td>\n",
       "      <td>0</td>\n",
       "    </tr>\n",
       "    <tr>\n",
       "      <th>9</th>\n",
       "      <td>0</td>\n",
       "      <td>0</td>\n",
       "      <td>0</td>\n",
       "      <td>0</td>\n",
       "      <td>0</td>\n",
       "      <td>1</td>\n",
       "      <td>0</td>\n",
       "      <td>0</td>\n",
       "      <td>0</td>\n",
       "      <td>0</td>\n",
       "      <td>...</td>\n",
       "      <td>0</td>\n",
       "      <td>0</td>\n",
       "      <td>0</td>\n",
       "      <td>0</td>\n",
       "      <td>0</td>\n",
       "      <td>0</td>\n",
       "      <td>0</td>\n",
       "      <td>0</td>\n",
       "      <td>1</td>\n",
       "      <td>0</td>\n",
       "    </tr>\n",
       "    <tr>\n",
       "      <th>10</th>\n",
       "      <td>0</td>\n",
       "      <td>0</td>\n",
       "      <td>0</td>\n",
       "      <td>0</td>\n",
       "      <td>1</td>\n",
       "      <td>1</td>\n",
       "      <td>1</td>\n",
       "      <td>0</td>\n",
       "      <td>0</td>\n",
       "      <td>0</td>\n",
       "      <td>...</td>\n",
       "      <td>0</td>\n",
       "      <td>0</td>\n",
       "      <td>0</td>\n",
       "      <td>0</td>\n",
       "      <td>0</td>\n",
       "      <td>1</td>\n",
       "      <td>0</td>\n",
       "      <td>0</td>\n",
       "      <td>1</td>\n",
       "      <td>0</td>\n",
       "    </tr>\n",
       "    <tr>\n",
       "      <th>11</th>\n",
       "      <td>0</td>\n",
       "      <td>0</td>\n",
       "      <td>0</td>\n",
       "      <td>0</td>\n",
       "      <td>0</td>\n",
       "      <td>1</td>\n",
       "      <td>0</td>\n",
       "      <td>0</td>\n",
       "      <td>0</td>\n",
       "      <td>1</td>\n",
       "      <td>...</td>\n",
       "      <td>0</td>\n",
       "      <td>0</td>\n",
       "      <td>0</td>\n",
       "      <td>0</td>\n",
       "      <td>0</td>\n",
       "      <td>0</td>\n",
       "      <td>0</td>\n",
       "      <td>0</td>\n",
       "      <td>0</td>\n",
       "      <td>0</td>\n",
       "    </tr>\n",
       "    <tr>\n",
       "      <th>12</th>\n",
       "      <td>0</td>\n",
       "      <td>0</td>\n",
       "      <td>0</td>\n",
       "      <td>0</td>\n",
       "      <td>0</td>\n",
       "      <td>0</td>\n",
       "      <td>0</td>\n",
       "      <td>0</td>\n",
       "      <td>0</td>\n",
       "      <td>0</td>\n",
       "      <td>...</td>\n",
       "      <td>0</td>\n",
       "      <td>0</td>\n",
       "      <td>0</td>\n",
       "      <td>0</td>\n",
       "      <td>0</td>\n",
       "      <td>0</td>\n",
       "      <td>0</td>\n",
       "      <td>0</td>\n",
       "      <td>0</td>\n",
       "      <td>0</td>\n",
       "    </tr>\n",
       "    <tr>\n",
       "      <th>13</th>\n",
       "      <td>0</td>\n",
       "      <td>0</td>\n",
       "      <td>0</td>\n",
       "      <td>0</td>\n",
       "      <td>0</td>\n",
       "      <td>1</td>\n",
       "      <td>0</td>\n",
       "      <td>1</td>\n",
       "      <td>0</td>\n",
       "      <td>1</td>\n",
       "      <td>...</td>\n",
       "      <td>0</td>\n",
       "      <td>0</td>\n",
       "      <td>0</td>\n",
       "      <td>0</td>\n",
       "      <td>0</td>\n",
       "      <td>0</td>\n",
       "      <td>0</td>\n",
       "      <td>0</td>\n",
       "      <td>0</td>\n",
       "      <td>1</td>\n",
       "    </tr>\n",
       "    <tr>\n",
       "      <th>14</th>\n",
       "      <td>0</td>\n",
       "      <td>0</td>\n",
       "      <td>1</td>\n",
       "      <td>0</td>\n",
       "      <td>0</td>\n",
       "      <td>0</td>\n",
       "      <td>0</td>\n",
       "      <td>0</td>\n",
       "      <td>0</td>\n",
       "      <td>0</td>\n",
       "      <td>...</td>\n",
       "      <td>0</td>\n",
       "      <td>0</td>\n",
       "      <td>0</td>\n",
       "      <td>0</td>\n",
       "      <td>1</td>\n",
       "      <td>0</td>\n",
       "      <td>0</td>\n",
       "      <td>0</td>\n",
       "      <td>1</td>\n",
       "      <td>0</td>\n",
       "    </tr>\n",
       "    <tr>\n",
       "      <th>15</th>\n",
       "      <td>0</td>\n",
       "      <td>0</td>\n",
       "      <td>1</td>\n",
       "      <td>0</td>\n",
       "      <td>0</td>\n",
       "      <td>0</td>\n",
       "      <td>0</td>\n",
       "      <td>0</td>\n",
       "      <td>0</td>\n",
       "      <td>0</td>\n",
       "      <td>...</td>\n",
       "      <td>0</td>\n",
       "      <td>0</td>\n",
       "      <td>0</td>\n",
       "      <td>0</td>\n",
       "      <td>0</td>\n",
       "      <td>0</td>\n",
       "      <td>0</td>\n",
       "      <td>0</td>\n",
       "      <td>0</td>\n",
       "      <td>0</td>\n",
       "    </tr>\n",
       "    <tr>\n",
       "      <th>16</th>\n",
       "      <td>1</td>\n",
       "      <td>1</td>\n",
       "      <td>0</td>\n",
       "      <td>0</td>\n",
       "      <td>0</td>\n",
       "      <td>0</td>\n",
       "      <td>0</td>\n",
       "      <td>0</td>\n",
       "      <td>0</td>\n",
       "      <td>0</td>\n",
       "      <td>...</td>\n",
       "      <td>0</td>\n",
       "      <td>0</td>\n",
       "      <td>0</td>\n",
       "      <td>0</td>\n",
       "      <td>0</td>\n",
       "      <td>0</td>\n",
       "      <td>0</td>\n",
       "      <td>0</td>\n",
       "      <td>0</td>\n",
       "      <td>0</td>\n",
       "    </tr>\n",
       "    <tr>\n",
       "      <th>17</th>\n",
       "      <td>0</td>\n",
       "      <td>0</td>\n",
       "      <td>1</td>\n",
       "      <td>0</td>\n",
       "      <td>0</td>\n",
       "      <td>0</td>\n",
       "      <td>0</td>\n",
       "      <td>0</td>\n",
       "      <td>0</td>\n",
       "      <td>0</td>\n",
       "      <td>...</td>\n",
       "      <td>0</td>\n",
       "      <td>0</td>\n",
       "      <td>0</td>\n",
       "      <td>0</td>\n",
       "      <td>0</td>\n",
       "      <td>0</td>\n",
       "      <td>0</td>\n",
       "      <td>0</td>\n",
       "      <td>0</td>\n",
       "      <td>0</td>\n",
       "    </tr>\n",
       "    <tr>\n",
       "      <th>18</th>\n",
       "      <td>0</td>\n",
       "      <td>0</td>\n",
       "      <td>0</td>\n",
       "      <td>0</td>\n",
       "      <td>0</td>\n",
       "      <td>0</td>\n",
       "      <td>0</td>\n",
       "      <td>0</td>\n",
       "      <td>0</td>\n",
       "      <td>0</td>\n",
       "      <td>...</td>\n",
       "      <td>0</td>\n",
       "      <td>0</td>\n",
       "      <td>0</td>\n",
       "      <td>0</td>\n",
       "      <td>0</td>\n",
       "      <td>0</td>\n",
       "      <td>0</td>\n",
       "      <td>0</td>\n",
       "      <td>0</td>\n",
       "      <td>0</td>\n",
       "    </tr>\n",
       "    <tr>\n",
       "      <th>19</th>\n",
       "      <td>0</td>\n",
       "      <td>0</td>\n",
       "      <td>0</td>\n",
       "      <td>0</td>\n",
       "      <td>0</td>\n",
       "      <td>0</td>\n",
       "      <td>0</td>\n",
       "      <td>0</td>\n",
       "      <td>0</td>\n",
       "      <td>0</td>\n",
       "      <td>...</td>\n",
       "      <td>0</td>\n",
       "      <td>0</td>\n",
       "      <td>1</td>\n",
       "      <td>0</td>\n",
       "      <td>0</td>\n",
       "      <td>0</td>\n",
       "      <td>0</td>\n",
       "      <td>0</td>\n",
       "      <td>0</td>\n",
       "      <td>0</td>\n",
       "    </tr>\n",
       "  </tbody>\n",
       "</table>\n",
       "<p>20 rows × 118 columns</p>\n",
       "</div>"
      ],
      "text/plain": [
       "    accomplishment  after  always  am  an  and  argument  at  away  be  ...  \\\n",
       "0                0      0       0   1   0    0         0   0     0   0  ...   \n",
       "1                0      0       0   0   0    1         0   0     0   0  ...   \n",
       "2                0      0       0   0   0    0         0   0     0   0  ...   \n",
       "3                0      0       0   0   0    0         0   0     0   0  ...   \n",
       "4                0      0       0   0   0    1         0   0     0   0  ...   \n",
       "5                0      0       0   1   0    0         0   0     0   0  ...   \n",
       "6                0      0       0   0   0    1         0   0     0   0  ...   \n",
       "7                0      0       0   0   0    0         0   0     1   0  ...   \n",
       "8                0      0       0   0   0    1         0   0     0   0  ...   \n",
       "9                0      0       0   0   0    1         0   0     0   0  ...   \n",
       "10               0      0       0   0   1    1         1   0     0   0  ...   \n",
       "11               0      0       0   0   0    1         0   0     0   1  ...   \n",
       "12               0      0       0   0   0    0         0   0     0   0  ...   \n",
       "13               0      0       0   0   0    1         0   1     0   1  ...   \n",
       "14               0      0       1   0   0    0         0   0     0   0  ...   \n",
       "15               0      0       1   0   0    0         0   0     0   0  ...   \n",
       "16               1      1       0   0   0    0         0   0     0   0  ...   \n",
       "17               0      0       1   0   0    0         0   0     0   0  ...   \n",
       "18               0      0       0   0   0    0         0   0     0   0  ...   \n",
       "19               0      0       0   0   0    0         0   0     0   0  ...   \n",
       "\n",
       "    vacation  ve  wanted  was  watching  we  week  who  with  work  \n",
       "0          1   0       0    0         0   0     1    0     0     0  \n",
       "1          0   0       0    0         0   0     0    0     1     1  \n",
       "2          0   1       0    1         0   0     0    0     0     0  \n",
       "3          0   0       0    0         0   0     0    0     0     0  \n",
       "4          0   0       0    0         0   0     0    0     1     0  \n",
       "5          0   0       0    0         0   0     0    0     1     0  \n",
       "6          0   0       0    0         0   0     0    0     0     0  \n",
       "7          0   0       0    0         0   0     0    1     0     0  \n",
       "8          0   0       0    0         0   0     0    0     0     0  \n",
       "9          0   0       0    0         0   0     0    0     1     0  \n",
       "10         0   0       0    0         0   1     0    0     1     0  \n",
       "11         0   0       0    0         0   0     0    0     0     0  \n",
       "12         0   0       0    0         0   0     0    0     0     0  \n",
       "13         0   0       0    0         0   0     0    0     0     1  \n",
       "14         0   0       0    0         1   0     0    0     1     0  \n",
       "15         0   0       0    0         0   0     0    0     0     0  \n",
       "16         0   0       0    0         0   0     0    0     0     0  \n",
       "17         0   0       0    0         0   0     0    0     0     0  \n",
       "18         0   0       0    0         0   0     0    0     0     0  \n",
       "19         0   0       1    0         0   0     0    0     0     0  \n",
       "\n",
       "[20 rows x 118 columns]"
      ]
     },
     "execution_count": 49,
     "metadata": {},
     "output_type": "execute_result"
    }
   ],
   "source": [
    "bag_of_words"
   ]
  },
  {
   "cell_type": "code",
   "execution_count": null,
   "id": "b8a1d4c5-0ce8-4dbf-acc5-09e538f12404",
   "metadata": {},
   "outputs": [],
   "source": [
    "# Create train and test data for our algorithm. test size indicates that 30% of our data is set aside for the test data"
   ]
  },
  {
   "cell_type": "code",
   "execution_count": 55,
   "id": "84eab010-69eb-4c8c-a40d-aebc9e90fbd4",
   "metadata": {},
   "outputs": [],
   "source": [
    "x_train, x_test, y_train, y_test = train_test_split(bag_of_words, y, test_size=0.3, random_state=7)"
   ]
  },
  {
   "cell_type": "code",
   "execution_count": null,
   "id": "c3c8c27d-f7ac-478c-88b1-72ee24104758",
   "metadata": {},
   "outputs": [],
   "source": [
    "# Create the logistic regression model"
   ]
  },
  {
   "cell_type": "code",
   "execution_count": 57,
   "id": "90a46490-232d-4711-90da-6d8f0d48285b",
   "metadata": {},
   "outputs": [],
   "source": [
    "lr = LogisticRegression(random_state=1).fit(x_train, y_train)"
   ]
  },
  {
   "cell_type": "code",
   "execution_count": null,
   "id": "381a8274-7dc9-4fc9-8ecd-f4993dd1bddb",
   "metadata": {},
   "outputs": [],
   "source": [
    "# Now predict this against our test data set"
   ]
  },
  {
   "cell_type": "code",
   "execution_count": 59,
   "id": "eeb58ce3-1bc0-437e-9736-8c8cd7415aed",
   "metadata": {},
   "outputs": [],
   "source": [
    "y_pred_lr = lr.predict(x_test)"
   ]
  },
  {
   "cell_type": "code",
   "execution_count": null,
   "id": "b8f5bc21-7d69-4598-abf1-8ba9ab612184",
   "metadata": {},
   "outputs": [],
   "source": [
    "# Compute the accuracy score"
   ]
  },
  {
   "cell_type": "code",
   "execution_count": 61,
   "id": "393cbdbb-a58d-4ad5-9e32-28919808ef4c",
   "metadata": {},
   "outputs": [
    {
     "data": {
      "text/plain": [
       "0.5"
      ]
     },
     "execution_count": 61,
     "metadata": {},
     "output_type": "execute_result"
    }
   ],
   "source": [
    "accuracy_score(y_pred_lr, y_test)"
   ]
  },
  {
   "cell_type": "code",
   "execution_count": null,
   "id": "556bd9f1-d10f-46a4-a706-a63296996c1c",
   "metadata": {},
   "outputs": [],
   "source": [
    "# Classification report with our test data and predicted data to see how our algortihm works with different types of tag"
   ]
  },
  {
   "cell_type": "code",
   "execution_count": 65,
   "id": "5179c14a-d0b0-473f-be9a-0fbe8ff91f36",
   "metadata": {},
   "outputs": [
    {
     "name": "stdout",
     "output_type": "stream",
     "text": [
      "              precision    recall  f1-score   support\n",
      "\n",
      "    negative       0.50      0.33      0.40         3\n",
      "    positive       0.50      0.67      0.57         3\n",
      "\n",
      "    accuracy                           0.50         6\n",
      "   macro avg       0.50      0.50      0.49         6\n",
      "weighted avg       0.50      0.50      0.49         6\n",
      "\n"
     ]
    }
   ],
   "source": [
    "print(classification_report(y_test, y_pred_lr))"
   ]
  },
  {
   "cell_type": "code",
   "execution_count": null,
   "id": "8a81fdde-2dd2-48c6-972f-7109a99f579b",
   "metadata": {},
   "outputs": [],
   "source": [
    "# Lets see if we can get a better accuracy score with a Naive Bayes model"
   ]
  },
  {
   "cell_type": "code",
   "execution_count": 67,
   "id": "fdf9dcd8-4a9c-4ce1-b27b-c076a4abdc0a",
   "metadata": {},
   "outputs": [],
   "source": [
    "from sklearn.naive_bayes import MultinomialNB"
   ]
  },
  {
   "cell_type": "code",
   "execution_count": 71,
   "id": "1c15e833-ed59-42a1-840d-9612d52a58c8",
   "metadata": {},
   "outputs": [],
   "source": [
    "nb = MultinomialNB().fit(x_train,y_train)"
   ]
  },
  {
   "cell_type": "code",
   "execution_count": 73,
   "id": "502334c8-9e38-4310-8f14-d894f35d2d2c",
   "metadata": {},
   "outputs": [],
   "source": [
    "y_pred_nb = nb.predict(x_test)"
   ]
  },
  {
   "cell_type": "code",
   "execution_count": 75,
   "id": "dadba860-ad49-455f-80dd-7e62d5bf11e1",
   "metadata": {},
   "outputs": [
    {
     "data": {
      "text/plain": [
       "0.3333333333333333"
      ]
     },
     "execution_count": 75,
     "metadata": {},
     "output_type": "execute_result"
    }
   ],
   "source": [
    "accuracy_score(y_pred_nb, y_test)"
   ]
  },
  {
   "cell_type": "code",
   "execution_count": 77,
   "id": "dc5341fb-c0e5-417e-bb8f-974f4fd6dce2",
   "metadata": {},
   "outputs": [
    {
     "name": "stdout",
     "output_type": "stream",
     "text": [
      "              precision    recall  f1-score   support\n",
      "\n",
      "    negative       0.00      0.00      0.00         3\n",
      "    positive       0.40      0.67      0.50         3\n",
      "\n",
      "    accuracy                           0.33         6\n",
      "   macro avg       0.20      0.33      0.25         6\n",
      "weighted avg       0.20      0.33      0.25         6\n",
      "\n"
     ]
    }
   ],
   "source": [
    "print( classification_report(y_test, y_pred_nb))"
   ]
  },
  {
   "cell_type": "code",
   "execution_count": null,
   "id": "0028b3d7-929c-4a08-9c55-94b31323fe61",
   "metadata": {},
   "outputs": [],
   "source": [
    "# Check the accuracy with Linear Support Vector machine that usually works well with text data"
   ]
  },
  {
   "cell_type": "code",
   "execution_count": 79,
   "id": "2c27dab9-eb03-4f80-a901-1830cdd1f0fa",
   "metadata": {},
   "outputs": [],
   "source": [
    "from sklearn.linear_model import SGDClassifier # Many other packages can also run this algorithm under the hood"
   ]
  },
  {
   "cell_type": "code",
   "execution_count": 83,
   "id": "d770739a-23de-4238-b69d-28155aa7f01a",
   "metadata": {},
   "outputs": [],
   "source": [
    "svm = SGDClassifier().fit(x_train, y_train)"
   ]
  },
  {
   "cell_type": "code",
   "execution_count": 85,
   "id": "7f4eb98d-068d-4ca5-8fa3-779da91d40b2",
   "metadata": {},
   "outputs": [],
   "source": [
    "y_pred_sv = svm.predict(x_test)"
   ]
  },
  {
   "cell_type": "code",
   "execution_count": 87,
   "id": "b75d2b16-b9b0-43dd-a4d8-c0efddcaac5f",
   "metadata": {},
   "outputs": [
    {
     "data": {
      "text/plain": [
       "0.3333333333333333"
      ]
     },
     "execution_count": 87,
     "metadata": {},
     "output_type": "execute_result"
    }
   ],
   "source": [
    "accuracy_score(y_pred_sv, y_test)"
   ]
  },
  {
   "cell_type": "code",
   "execution_count": 89,
   "id": "4dce5b70-a29c-4672-8de5-6a5b84ed389c",
   "metadata": {},
   "outputs": [
    {
     "name": "stdout",
     "output_type": "stream",
     "text": [
      "              precision    recall  f1-score   support\n",
      "\n",
      "    negative       0.00      0.00      0.00         3\n",
      "    positive       0.40      0.67      0.50         3\n",
      "\n",
      "    accuracy                           0.33         6\n",
      "   macro avg       0.20      0.33      0.25         6\n",
      "weighted avg       0.20      0.33      0.25         6\n",
      "\n"
     ]
    }
   ],
   "source": [
    "print(classification_report(y_test, y_pred_sv))"
   ]
  },
  {
   "cell_type": "code",
   "execution_count": null,
   "id": "59bae62a-2a37-42fe-acbf-aa8dd89c1317",
   "metadata": {},
   "outputs": [],
   "source": []
  }
 ],
 "metadata": {
  "kernelspec": {
   "display_name": "Python 3 (ipykernel)",
   "language": "python",
   "name": "python3"
  },
  "language_info": {
   "codemirror_mode": {
    "name": "ipython",
    "version": 3
   },
   "file_extension": ".py",
   "mimetype": "text/x-python",
   "name": "python",
   "nbconvert_exporter": "python",
   "pygments_lexer": "ipython3",
   "version": "3.12.7"
  }
 },
 "nbformat": 4,
 "nbformat_minor": 5
}
