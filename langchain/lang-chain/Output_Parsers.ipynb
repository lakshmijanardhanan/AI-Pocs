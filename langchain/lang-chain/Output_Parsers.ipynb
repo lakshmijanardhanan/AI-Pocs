{
 "cells": [
  {
   "cell_type": "code",
   "execution_count": null,
   "id": "23132d5a-3578-42ed-accc-7c5cfb3bf81c",
   "metadata": {},
   "outputs": [],
   "source": [
    "# String Output parser - Converts output to string\n",
    "# Comma seprated List Output Parser\n",
    "# Datetime output parser"
   ]
  },
  {
   "cell_type": "code",
   "execution_count": 1,
   "id": "09f8bab7-43cf-4297-b84e-6f3a738fbaaf",
   "metadata": {},
   "outputs": [],
   "source": [
    "%load_ext dotenv\n",
    "%dotenv"
   ]
  },
  {
   "cell_type": "code",
   "execution_count": 19,
   "id": "396f2cc7-b386-40b1-b074-e2792831d319",
   "metadata": {},
   "outputs": [],
   "source": [
    "from langchain_openai.chat_models import ChatOpenAI\n",
    "from langchain.schema import HumanMessage\n",
    "from langchain_core.output_parsers import StrOutputParser, CommaSeparatedListOutputParser"
   ]
  },
  {
   "cell_type": "code",
   "execution_count": 5,
   "id": "31abb93a-503b-4fd5-92d2-d1c9431a32b1",
   "metadata": {},
   "outputs": [],
   "source": [
    "chat = ChatOpenAI ( model='gpt-4', \n",
    "                   seed=365 , \n",
    "                   temperature=0, \n",
    "                   max_completion_tokens=100)"
   ]
  },
  {
   "cell_type": "code",
   "execution_count": 7,
   "id": "fae87169-dc44-4478-aafc-5bb4fd722c68",
   "metadata": {},
   "outputs": [],
   "source": [
    "message_h = HumanMessage(content=\"Can you give me an interesting fact that I probably didnt know about \")"
   ]
  },
  {
   "cell_type": "code",
   "execution_count": 9,
   "id": "65a77e04-67a4-4ec6-b03a-034bc552736c",
   "metadata": {},
   "outputs": [],
   "source": [
    "response = chat.invoke([message_h])"
   ]
  },
  {
   "cell_type": "code",
   "execution_count": 11,
   "id": "cd5f94c8-d402-4f25-8eda-1899d85f8b26",
   "metadata": {},
   "outputs": [
    {
     "data": {
      "text/plain": [
       "AIMessage(content=\"Sure, but you didn't specify a topic. So, here's a general one: Did you know that octopuses have three hearts? Two pump blood to the gills, while the third pumps it to the rest of the body.\", additional_kwargs={'refusal': None}, response_metadata={'token_usage': {'completion_tokens': 50, 'prompt_tokens': 21, 'total_tokens': 71, 'completion_tokens_details': {'accepted_prediction_tokens': 0, 'audio_tokens': 0, 'reasoning_tokens': 0, 'rejected_prediction_tokens': 0}, 'prompt_tokens_details': {'audio_tokens': 0, 'cached_tokens': 0}}, 'model_name': 'gpt-4-0613', 'system_fingerprint': None, 'finish_reason': 'stop', 'logprobs': None}, id='run-0cb12523-ab35-4605-adb3-96ea5575f5d9-0', usage_metadata={'input_tokens': 21, 'output_tokens': 50, 'total_tokens': 71, 'input_token_details': {'audio': 0, 'cache_read': 0}, 'output_token_details': {'audio': 0, 'reasoning': 0}})"
      ]
     },
     "execution_count": 11,
     "metadata": {},
     "output_type": "execute_result"
    }
   ],
   "source": [
    "response"
   ]
  },
  {
   "cell_type": "code",
   "execution_count": 13,
   "id": "63412f1e-049a-40ac-9fb2-f5ed195dba52",
   "metadata": {},
   "outputs": [],
   "source": [
    "str_output_parser =StrOutputParser()"
   ]
  },
  {
   "cell_type": "code",
   "execution_count": 15,
   "id": "94d92637-9162-41f9-82b4-65d1b6ddde20",
   "metadata": {},
   "outputs": [],
   "source": [
    "response_parsed = str_output_parser.invoke(response)"
   ]
  },
  {
   "cell_type": "code",
   "execution_count": 17,
   "id": "d16d3c96-4739-4e43-809d-7f466fbba0c1",
   "metadata": {},
   "outputs": [
    {
     "data": {
      "text/plain": [
       "\"Sure, but you didn't specify a topic. So, here's a general one: Did you know that octopuses have three hearts? Two pump blood to the gills, while the third pumps it to the rest of the body.\""
      ]
     },
     "execution_count": 17,
     "metadata": {},
     "output_type": "execute_result"
    }
   ],
   "source": [
    "response_parsed"
   ]
  },
  {
   "cell_type": "code",
   "execution_count": 21,
   "id": "688ad945-4001-4140-b745-15976378c71d",
   "metadata": {},
   "outputs": [],
   "source": [
    "message_h_2 = HumanMessage(content='''I've recently adopted a dog. Could you suggest some dog names? ''')"
   ]
  },
  {
   "cell_type": "code",
   "execution_count": 25,
   "id": "a9e96f28-d339-40fb-aebe-f26a1e5f9dbc",
   "metadata": {},
   "outputs": [],
   "source": [
    "response_2 = chat.invoke([message_h_2])"
   ]
  },
  {
   "cell_type": "code",
   "execution_count": 27,
   "id": "2bb28255-9841-4af1-95a7-672d5566218f",
   "metadata": {},
   "outputs": [
    {
     "name": "stdout",
     "output_type": "stream",
     "text": [
      "Of course! Here are some suggestions:\n",
      "\n",
      "Male Dog Names:\n",
      "1. Max\n",
      "2. Charlie\n",
      "3. Cooper\n",
      "4. Buddy\n",
      "5. Jack\n",
      "6. Rocky\n",
      "7. Duke\n",
      "8. Bear\n",
      "9. Zeus\n",
      "10. Toby\n",
      "\n",
      "Female Dog Names:\n",
      "1. Bella\n",
      "2. Lucy\n",
      "3. Daisy\n",
      "3. Luna\n",
      "4. Lola\n",
      "5. Sadie\n",
      "6. Molly\n",
      "7. Bailey\n",
      "8. Stella\n",
      "9. Maggie\n",
      "\n",
      "Unisex Dog\n"
     ]
    }
   ],
   "source": [
    "print(response_2.content)"
   ]
  },
  {
   "cell_type": "code",
   "execution_count": 29,
   "id": "4cc5691c-7d99-4519-a673-46485053a68b",
   "metadata": {},
   "outputs": [],
   "source": [
    "list_output_parser = CommaSeparatedListOutputParser()"
   ]
  },
  {
   "cell_type": "code",
   "execution_count": 31,
   "id": "5b20f743-198f-47ef-95dc-4a4afbbcb290",
   "metadata": {},
   "outputs": [],
   "source": [
    "response_parsed_2 = list_output_parser.invoke(response_2)"
   ]
  },
  {
   "cell_type": "code",
   "execution_count": 33,
   "id": "c1bde5c0-b65a-4de7-ab00-63cd5e5a661e",
   "metadata": {},
   "outputs": [
    {
     "data": {
      "text/plain": [
       "['Of course! Here are some suggestions:',\n",
       " 'Male Dog Names:',\n",
       " '1. Max',\n",
       " '2. Charlie',\n",
       " '3. Cooper',\n",
       " '4. Buddy',\n",
       " '5. Jack',\n",
       " '6. Rocky',\n",
       " '7. Duke',\n",
       " '8. Bear',\n",
       " '9. Zeus',\n",
       " '10. Toby',\n",
       " 'Female Dog Names:',\n",
       " '1. Bella',\n",
       " '2. Lucy',\n",
       " '3. Daisy',\n",
       " '3. Luna',\n",
       " '4. Lola',\n",
       " '5. Sadie',\n",
       " '6. Molly',\n",
       " '7. Bailey',\n",
       " '8. Stella',\n",
       " '9. Maggie',\n",
       " 'Unisex Dog']"
      ]
     },
     "execution_count": 33,
     "metadata": {},
     "output_type": "execute_result"
    }
   ],
   "source": [
    "response_parsed_2"
   ]
  },
  {
   "cell_type": "code",
   "execution_count": 37,
   "id": "b049130c-d962-4072-ba23-e187ddb931e8",
   "metadata": {},
   "outputs": [
    {
     "name": "stdout",
     "output_type": "stream",
     "text": [
      "Your response should be a list of comma separated values, eg: `foo, bar, baz` or `foo,bar,baz`\n"
     ]
    }
   ],
   "source": [
    "print(list_output_parser.get_format_instructions())"
   ]
  },
  {
   "cell_type": "code",
   "execution_count": null,
   "id": "b42762d6-5eb1-4ea9-9f5c-3a45072bc99d",
   "metadata": {},
   "outputs": [],
   "source": []
  }
 ],
 "metadata": {
  "kernelspec": {
   "display_name": "langchain_env",
   "language": "python",
   "name": "langchain_env"
  },
  "language_info": {
   "codemirror_mode": {
    "name": "ipython",
    "version": 3
   },
   "file_extension": ".py",
   "mimetype": "text/x-python",
   "name": "python",
   "nbconvert_exporter": "python",
   "pygments_lexer": "ipython3",
   "version": "3.12.8"
  }
 },
 "nbformat": 4,
 "nbformat_minor": 5
}
