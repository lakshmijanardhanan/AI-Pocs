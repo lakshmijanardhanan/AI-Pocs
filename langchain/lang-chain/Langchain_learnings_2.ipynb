{
 "cells": [
  {
   "cell_type": "code",
   "execution_count": 24,
   "id": "d339e271-eaf7-4968-b6ae-a9d707248996",
   "metadata": {},
   "outputs": [],
   "source": [
    "# Converting a Lambda function into runnable. Any function that is converted to a runnable can them be invoked and chained"
   ]
  },
  {
   "cell_type": "code",
   "execution_count": 34,
   "id": "fee84dae-0e8c-4be2-bbff-91c4d22c0b91",
   "metadata": {},
   "outputs": [],
   "source": [
    "from langchain_core.runnables import RunnableLambda, chain"
   ]
  },
  {
   "cell_type": "code",
   "execution_count": 2,
   "id": "79b940b8-a82b-4a3f-adf2-3f3481366482",
   "metadata": {},
   "outputs": [],
   "source": [
    "find_sum = lambda x: sum(x)"
   ]
  },
  {
   "cell_type": "code",
   "execution_count": 4,
   "id": "57920cbb-efcc-48be-aa73-8f7effc0ebf1",
   "metadata": {},
   "outputs": [
    {
     "data": {
      "text/plain": [
       "6"
      ]
     },
     "execution_count": 4,
     "metadata": {},
     "output_type": "execute_result"
    }
   ],
   "source": [
    "find_sum([1,2,3])"
   ]
  },
  {
   "cell_type": "code",
   "execution_count": 6,
   "id": "adb2ce46-723f-4f95-bad7-64339c4ad159",
   "metadata": {},
   "outputs": [],
   "source": [
    "find_square = lambda x: x**2"
   ]
  },
  {
   "cell_type": "code",
   "execution_count": 8,
   "id": "829e6b14-7350-40d7-82ae-3b9be0fa5211",
   "metadata": {},
   "outputs": [
    {
     "data": {
      "text/plain": [
       "64"
      ]
     },
     "execution_count": 8,
     "metadata": {},
     "output_type": "execute_result"
    }
   ],
   "source": [
    "find_square(8)"
   ]
  },
  {
   "cell_type": "code",
   "execution_count": 12,
   "id": "ef72da51-e7b8-4849-a33a-c862b6026ce9",
   "metadata": {},
   "outputs": [],
   "source": [
    "runnable_sum = RunnableLambda(lambda x : sum(x))"
   ]
  },
  {
   "cell_type": "code",
   "execution_count": 14,
   "id": "662121de-519e-4949-ab79-f6739ed92697",
   "metadata": {},
   "outputs": [
    {
     "data": {
      "text/plain": [
       "6"
      ]
     },
     "execution_count": 14,
     "metadata": {},
     "output_type": "execute_result"
    }
   ],
   "source": [
    "runnable_sum.invoke([1,2,3])"
   ]
  },
  {
   "cell_type": "code",
   "execution_count": 16,
   "id": "235b5b2c-b9bf-4c9b-96f2-7913028846de",
   "metadata": {},
   "outputs": [
    {
     "data": {
      "text/plain": [
       "64"
      ]
     },
     "execution_count": 16,
     "metadata": {},
     "output_type": "execute_result"
    }
   ],
   "source": [
    "runnable_square = RunnableLambda(lambda x: x**2)\n",
    "runnable_square.invoke(8)"
   ]
  },
  {
   "cell_type": "code",
   "execution_count": 18,
   "id": "897c13f3-23df-4d31-9a93-ddb6f11fe487",
   "metadata": {},
   "outputs": [],
   "source": [
    "chain = runnable_sum | runnable_square"
   ]
  },
  {
   "cell_type": "code",
   "execution_count": 20,
   "id": "e8f11d08-5461-417e-b0d7-0bc573273ef9",
   "metadata": {},
   "outputs": [
    {
     "data": {
      "text/plain": [
       "36"
      ]
     },
     "execution_count": 20,
     "metadata": {},
     "output_type": "execute_result"
    }
   ],
   "source": [
    "chain.invoke([1,2,3])"
   ]
  },
  {
   "cell_type": "code",
   "execution_count": 22,
   "id": "e057df2e-ce4b-42cc-927d-014ca787ea64",
   "metadata": {},
   "outputs": [
    {
     "name": "stdout",
     "output_type": "stream",
     "text": [
      "+-------------+  \n",
      "| LambdaInput |  \n",
      "+-------------+  \n",
      "        *        \n",
      "        *        \n",
      "        *        \n",
      "   +--------+    \n",
      "   | Lambda |    \n",
      "   +--------+    \n",
      "        *        \n",
      "        *        \n",
      "        *        \n",
      "   +--------+    \n",
      "   | Lambda |    \n",
      "   +--------+    \n",
      "        *        \n",
      "        *        \n",
      "        *        \n",
      "+--------------+ \n",
      "| LambdaOutput | \n",
      "+--------------+ \n"
     ]
    }
   ],
   "source": [
    "chain.get_graph().print_ascii()"
   ]
  },
  {
   "cell_type": "code",
   "execution_count": null,
   "id": "f84f7d8b-5f50-474a-8fad-c9f0a72a775a",
   "metadata": {},
   "outputs": [],
   "source": [
    "# Langchain decorators"
   ]
  },
  {
   "cell_type": "code",
   "execution_count": 26,
   "id": "139ff05c-0c19-485b-b765-346297a03b9d",
   "metadata": {},
   "outputs": [],
   "source": [
    "def findsum(x):\n",
    "    return sum(x)"
   ]
  },
  {
   "cell_type": "code",
   "execution_count": 28,
   "id": "58edec89-0bce-4c08-b4b6-b04e52fd1f96",
   "metadata": {},
   "outputs": [],
   "source": [
    "def findsquare(x):\n",
    "    return(x**2)"
   ]
  },
  {
   "cell_type": "code",
   "execution_count": 30,
   "id": "449513f7-6e66-445a-8c02-010956cda885",
   "metadata": {},
   "outputs": [],
   "source": [
    "chain1 = RunnableLambda(find_sum) | RunnableLambda(find_square)"
   ]
  },
  {
   "cell_type": "code",
   "execution_count": 32,
   "id": "65610ea0-7a9d-44bf-b080-0a1550c1cb10",
   "metadata": {},
   "outputs": [
    {
     "data": {
      "text/plain": [
       "36"
      ]
     },
     "execution_count": 32,
     "metadata": {},
     "output_type": "execute_result"
    }
   ],
   "source": [
    "chain1.invoke([1,2,3])"
   ]
  },
  {
   "cell_type": "code",
   "execution_count": 36,
   "id": "b1cf6d7a-e2a7-4ae4-a6d6-ea2ea4743aa4",
   "metadata": {},
   "outputs": [],
   "source": [
    "@chain # This decorator wraps the two function as a Runnable lambda\n",
    "def runnablesum(x):\n",
    "    return sum(x)\n",
    "@chain\n",
    "def runnablesquare(x):\n",
    "    return(x**2)    "
   ]
  },
  {
   "cell_type": "code",
   "execution_count": 38,
   "id": "221d9c69-7019-4dc2-a7f2-8b9eeec7f73a",
   "metadata": {},
   "outputs": [
    {
     "data": {
      "text/plain": [
       "langchain_core.runnables.base.RunnableLambda"
      ]
     },
     "execution_count": 38,
     "metadata": {},
     "output_type": "execute_result"
    }
   ],
   "source": [
    "type(runnable_sum)"
   ]
  },
  {
   "cell_type": "code",
   "execution_count": 40,
   "id": "641d603e-7396-463c-a1fc-82aedd1f719b",
   "metadata": {},
   "outputs": [],
   "source": [
    "chain2 = runnable_sum | runnable_square"
   ]
  },
  {
   "cell_type": "code",
   "execution_count": 42,
   "id": "18819d0e-d324-4fae-b645-1ce6123ecb72",
   "metadata": {},
   "outputs": [
    {
     "data": {
      "text/plain": [
       "36"
      ]
     },
     "execution_count": 42,
     "metadata": {},
     "output_type": "execute_result"
    }
   ],
   "source": [
    "chain2.invoke([1,2,3])"
   ]
  },
  {
   "cell_type": "code",
   "execution_count": null,
   "id": "9bfd506e-5132-4f1b-bc91-1130e9bf45ce",
   "metadata": {},
   "outputs": [],
   "source": [
    "# When you use @chain decorator, dont have a variable with the name chain"
   ]
  },
  {
   "cell_type": "code",
   "execution_count": 44,
   "id": "42cc875d-84d9-4e93-986e-d7ea8efe9e7d",
   "metadata": {},
   "outputs": [],
   "source": [
    "%load_ext dotenv\n",
    "%dotenv"
   ]
  },
  {
   "cell_type": "code",
   "execution_count": 96,
   "id": "815a6c86-125e-4a69-871f-48fc93031d15",
   "metadata": {},
   "outputs": [],
   "source": [
    "from langchain_openai.chat_models import ChatOpenAI\n",
    "from langchain_core.prompts import PromptTemplate\n",
    "from langchain_core.output_parsers import CommaSeparatedListOutputParser, StrOutputParser\n",
    "from langchain.memory import ConversationSummaryMemory\n",
    "from langchain_core.runnables import RunnablePassthrough, RunnableLambda\n",
    "from operator import itemgetter\n",
    "from langchain_core.runnables import chain"
   ]
  },
  {
   "cell_type": "code",
   "execution_count": 98,
   "id": "f052ae59-82fe-4b57-ab14-8c273ad948d0",
   "metadata": {},
   "outputs": [],
   "source": [
    "TEMPLATE = '''\n",
    "The following is a friendly conversation between a human and an AI.\n",
    "The AI is talkative and provids lots of specific details from its context.\n",
    "If the AI does not know the answer to a question, it trutfully says that it does not know.\n",
    "\n",
    "Current Conversation:\n",
    "{message_log}\n",
    "\n",
    "Human:\n",
    "{question}\n",
    "\n",
    "AI:\n",
    "'''"
   ]
  },
  {
   "cell_type": "code",
   "execution_count": 54,
   "id": "4e5ac5ba-60b7-4626-9503-b1a626d910a6",
   "metadata": {},
   "outputs": [],
   "source": [
    "prompt_template = PromptTemplate.from_template(template=TEMPLATE)"
   ]
  },
  {
   "cell_type": "code",
   "execution_count": 100,
   "id": "8991962f-0432-42ab-a6bc-66ddef63e4a6",
   "metadata": {},
   "outputs": [],
   "source": [
    "chat = ChatOpenAI ( model='gpt-4', \n",
    "                   seed=365 , \n",
    "                   temperature=0, \n",
    "                   max_completion_tokens=100)"
   ]
  },
  {
   "cell_type": "code",
   "execution_count": 58,
   "id": "c5bb492c-4ecc-4308-85e6-112f13e2c7fe",
   "metadata": {},
   "outputs": [],
   "source": [
    "chain = prompt_template | chat | StrOutputParser()"
   ]
  },
  {
   "cell_type": "code",
   "execution_count": 60,
   "id": "e99ec167-0461-47bb-a6f3-adb60e7978b9",
   "metadata": {},
   "outputs": [
    {
     "data": {
      "text/plain": [
       "'Sure, did you know that octopuses have three hearts? Two pump blood to the gills, while the third pumps it to the rest of the body. And interestingly, when an octopus swims, the heart that delivers blood to the body stops beating, which is why octopuses prefer to crawl rather than swim, swimming is exhausting for them.'"
      ]
     },
     "execution_count": 60,
     "metadata": {},
     "output_type": "execute_result"
    }
   ],
   "source": [
    "chain.invoke({'message_log':'', \n",
    "             'question':'Can you give me an interesting fact i probably didnt know about'})"
   ]
  },
  {
   "cell_type": "code",
   "execution_count": 62,
   "id": "e3766ec8-6d40-47e7-9380-cd118d2d4b58",
   "metadata": {},
   "outputs": [
    {
     "data": {
      "text/plain": [
       "'Absolutely! Octopuses are fascinating creatures. As I mentioned, they have three hearts. The two hearts that pump blood to the gills are called branchial hearts, and the third one that pumps blood to the rest of the body is called the systemic heart. \\n\\nWhen an octopus is resting or moving slowly, all three hearts are working. But when it swims, the systemic heart, which supplies blood to the body, stops beating. This is because swimming requires more energy and oxygen, so'"
      ]
     },
     "execution_count": 62,
     "metadata": {},
     "output_type": "execute_result"
    }
   ],
   "source": [
    "chain.invoke({'message_log':'Can you give me an interesting fact i probably didnt know about.Sure, did you know that octopuses have three hearts? Two pump blood to the gills, while the third pumps it to the rest of the body. And interestingly, when an octopus swims, the heart that delivers blood to the body stops beating, which is why octopuses prefer to crawl rather than swim, swimming is exhausting for them', \n",
    "             'question':'Can you elaborate a bit more'})"
   ]
  },
  {
   "cell_type": "code",
   "execution_count": null,
   "id": "2a5efe0a-81f2-4a17-9b13-15c3e51e9e36",
   "metadata": {},
   "outputs": [],
   "source": [
    "# We should not be copy pasting response into message log. Thas the job of a memory object"
   ]
  },
  {
   "cell_type": "code",
   "execution_count": 102,
   "id": "8711d995-8052-4fe6-bb85-34c06522a786",
   "metadata": {},
   "outputs": [],
   "source": [
    "chat_memory = ConversationSummaryMemory( llm = ChatOpenAI(), memory_key='message_log')"
   ]
  },
  {
   "cell_type": "code",
   "execution_count": 68,
   "id": "e42119d5-060f-41ca-b49e-d28919688692",
   "metadata": {},
   "outputs": [
    {
     "data": {
      "text/plain": [
       "{'message_log': ''}"
      ]
     },
     "execution_count": 68,
     "metadata": {},
     "output_type": "execute_result"
    }
   ],
   "source": [
    "chat_memory.load_memory_variables({})"
   ]
  },
  {
   "cell_type": "code",
   "execution_count": 72,
   "id": "f194a4cc-1eb1-4f1b-a48c-1f42baeaf5ce",
   "metadata": {},
   "outputs": [
    {
     "data": {
      "text/plain": [
       "{'question': 'Can you give me an interesting fact i probably didnt know about?'}"
      ]
     },
     "execution_count": 72,
     "metadata": {},
     "output_type": "execute_result"
    }
   ],
   "source": [
    "# We need to hook up the message_log variable with the input variable of the same name\n",
    "RunnablePassthrough().invoke({'question':'Can you give me an interesting fact i probably didnt know about?'})"
   ]
  },
  {
   "cell_type": "code",
   "execution_count": null,
   "id": "c4c94904-1ad4-4d15-81d1-5220f6b383a2",
   "metadata": {},
   "outputs": [],
   "source": [
    "# In order to assign the memory to the this invoke method"
   ]
  },
  {
   "cell_type": "code",
   "execution_count": 76,
   "id": "d881ca82-a3cd-4e06-a793-658cf71626e5",
   "metadata": {},
   "outputs": [
    {
     "data": {
      "text/plain": [
       "{'question': 'Can you give me an interesting fact i probably didnt know about?',\n",
       " 'message_log': {'message_log': ''}}"
      ]
     },
     "execution_count": 76,
     "metadata": {},
     "output_type": "execute_result"
    }
   ],
   "source": [
    "RunnablePassthrough.assign(message_log = chat_memory.load_memory_variables).invoke({'question':'Can you give me an interesting fact i probably didnt know about?'})"
   ]
  },
  {
   "cell_type": "code",
   "execution_count": null,
   "id": "f332aab9-ed12-4789-a38a-5e2998950ebe",
   "metadata": {},
   "outputs": [],
   "source": [
    "# itemgetter method to fetch items from object in list tupels dicts etc"
   ]
  },
  {
   "cell_type": "code",
   "execution_count": 80,
   "id": "e4fcd135-2761-4a52-82e7-d011d1a633ac",
   "metadata": {},
   "outputs": [
    {
     "data": {
      "text/plain": [
       "''"
      ]
     },
     "execution_count": 80,
     "metadata": {},
     "output_type": "execute_result"
    }
   ],
   "source": [
    "itemgetter('message_log')({'message_log':''})"
   ]
  },
  {
   "cell_type": "code",
   "execution_count": null,
   "id": "bc80c837-b4ec-43bb-a4f5-4152d1aea043",
   "metadata": {},
   "outputs": [],
   "source": [
    "# Make this a runnable to invoke it, use itemgetter is called as part of a chain"
   ]
  },
  {
   "cell_type": "code",
   "execution_count": 90,
   "id": "7c3d588f-8578-43f8-b204-e1227ad75625",
   "metadata": {},
   "outputs": [
    {
     "data": {
      "text/plain": [
       "''"
      ]
     },
     "execution_count": 90,
     "metadata": {},
     "output_type": "execute_result"
    }
   ],
   "source": [
    "RunnableLambda(itemgetter('message_log')).invoke({'message_log':''})"
   ]
  },
  {
   "cell_type": "code",
   "execution_count": 94,
   "id": "44fc0c0f-c95e-4067-8515-5d4ca4c6dd1a",
   "metadata": {},
   "outputs": [
    {
     "data": {
      "text/plain": [
       "{'question': 'Can you give me an interesting fact i probably didnt know about?',\n",
       " 'message_log': ''}"
      ]
     },
     "execution_count": 94,
     "metadata": {},
     "output_type": "execute_result"
    }
   ],
   "source": [
    "RunnablePassthrough.assign(message_log = \n",
    "                            RunnableLambda(chat_memory.load_memory_variables)|\n",
    "                            RunnableLambda(itemgetter('message_log'))\n",
    "                          ).invoke(\n",
    "            {'question':'Can you give me an interesting fact i probably didnt know about?'})"
   ]
  },
  {
   "cell_type": "code",
   "execution_count": null,
   "id": "8724954e-8a46-47b6-b5c2-58de6aeb89b2",
   "metadata": {},
   "outputs": [],
   "source": [
    "## The following code brings it all together"
   ]
  },
  {
   "cell_type": "code",
   "execution_count": 140,
   "id": "61eb1332-65ff-4c6f-989f-1610c43145cd",
   "metadata": {},
   "outputs": [],
   "source": [
    "question = 'Can you give me an interesting fact i probably didnt know about?'"
   ]
  },
  {
   "cell_type": "code",
   "execution_count": 142,
   "id": "9a21cfe7-e1d7-4bab-81f6-e569825e6c44",
   "metadata": {},
   "outputs": [
    {
     "data": {
      "text/plain": [
       "{'question': 'Can you give me an interesting fact i probably didnt know about?'}"
      ]
     },
     "execution_count": 142,
     "metadata": {},
     "output_type": "execute_result"
    }
   ],
   "source": [
    "RunnablePassthrough().invoke({'question':question})"
   ]
  },
  {
   "cell_type": "code",
   "execution_count": 144,
   "id": "dc81d783-f567-40c2-96ec-9a2362e6bb08",
   "metadata": {},
   "outputs": [],
   "source": [
    "# Now use the assign method to expand the dictionary to add the message_log key value pair\n",
    "dictionary_output = RunnablePassthrough.assign(message_log = \n",
    "                            RunnableLambda(chat_memory.load_memory_variables)|\n",
    "                            RunnableLambda(itemgetter('message_log'))\n",
    "                          ).invoke({'question':question})"
   ]
  },
  {
   "cell_type": "code",
   "execution_count": 146,
   "id": "34d8c170-1d78-4e4f-a0cf-ae77577be435",
   "metadata": {},
   "outputs": [],
   "source": [
    "prompt_value_output = prompt_template.invoke(dictionary_output)"
   ]
  },
  {
   "cell_type": "code",
   "execution_count": 148,
   "id": "c23159cf-9b53-41ad-aedd-ab5daa08279c",
   "metadata": {},
   "outputs": [],
   "source": [
    "ai_message_output = chat.invoke(prompt_value_output)"
   ]
  },
  {
   "cell_type": "code",
   "execution_count": 149,
   "id": "d697b490-1472-498a-9a18-86ba08d96c0f",
   "metadata": {},
   "outputs": [],
   "source": [
    "response = StrOutputParser().invoke(ai_message_output)"
   ]
  },
  {
   "cell_type": "code",
   "execution_count": 150,
   "id": "e6fea373-733e-49bf-b55f-56608956af40",
   "metadata": {},
   "outputs": [],
   "source": [
    "chat_memory.save_context( inputs = {'input':question},\n",
    "                         outputs = {'output':response})"
   ]
  },
  {
   "cell_type": "code",
   "execution_count": 151,
   "id": "0160d5cb-1745-45d9-85e1-4072174b4b3c",
   "metadata": {},
   "outputs": [
    {
     "data": {
      "text/plain": [
       "{'message_log': 'The human asks the AI for an interesting fact they may not know about. The AI shares that octopuses have three hearts and explains why they prefer crawling to swimming. The human then asks for another fact, and the AI mentions that honey never spoils. Lastly, the AI shares that the Eiffel Tower can be taller during the summer due to the expansion of iron on hot days.\\n'}"
      ]
     },
     "execution_count": 151,
     "metadata": {},
     "output_type": "execute_result"
    }
   ],
   "source": [
    "chat_memory.load_memory_variables({})"
   ]
  },
  {
   "cell_type": "code",
   "execution_count": 152,
   "id": "86f6c0e0-5ef1-41a8-95c8-26e72f9827ce",
   "metadata": {},
   "outputs": [],
   "source": [
    "chain1= (\n",
    "    RunnablePassthrough.assign(message_log = \n",
    "                            RunnableLambda(chat_memory.load_memory_variables)|\n",
    "                            itemgetter('message_log'))\n",
    "       | prompt_template\n",
    "       | chat\n",
    "       | StrOutputParser()                           \n",
    ")\n",
    "    "
   ]
  },
  {
   "cell_type": "code",
   "execution_count": 153,
   "id": "9ab8cc86-6ae0-48e1-877c-f470566886eb",
   "metadata": {},
   "outputs": [],
   "source": [
    "response = chain1.invoke({'question':question})\n",
    "chat_memory.save_context( inputs = {'input':question},\n",
    "                         outputs = {'output':response})"
   ]
  },
  {
   "cell_type": "code",
   "execution_count": 154,
   "id": "06e054ce-23c9-4a89-84ca-a63f8ce670b9",
   "metadata": {},
   "outputs": [
    {
     "data": {
      "text/plain": [
       "'Sure, did you know that octopuses have three hearts? Two pump blood to the gills, while the third pumps it to the rest of the body. Interestingly, when an octopus swims, the heart that delivers blood to the body stops beating, which is why they prefer to crawl rather than swim, as swimming exhausts them.'"
      ]
     },
     "execution_count": 154,
     "metadata": {},
     "output_type": "execute_result"
    }
   ],
   "source": [
    "response"
   ]
  },
  {
   "cell_type": "code",
   "execution_count": null,
   "id": "493e0813-b2d1-407e-b41e-28298c7b1ec2",
   "metadata": {},
   "outputs": [],
   "source": [
    "# Creating a function"
   ]
  },
  {
   "cell_type": "code",
   "execution_count": 182,
   "id": "cb50cd80-d8a6-42de-804b-5b10d753512e",
   "metadata": {},
   "outputs": [],
   "source": [
    "@chain\n",
    "def memory_chain(question):\n",
    "    chain1= (\n",
    "    RunnablePassthrough.assign(message_log = \n",
    "                            RunnableLambda(chat_memory.load_memory_variables)|\n",
    "                            itemgetter('message_log'))\n",
    "       | prompt_template\n",
    "       | chat\n",
    "       | StrOutputParser()                           \n",
    "    )\n",
    "\n",
    "    #chain1.get_graph().print_ascii()\n",
    "    \n",
    "    response = chain1.invoke({'question':question})\n",
    "    chat_memory.save_context( inputs = {'input':question},\n",
    "                         outputs = {'output':response})    \n",
    "    return response\n"
   ]
  },
  {
   "cell_type": "code",
   "execution_count": 184,
   "id": "8c3fa041-4b20-4f5c-9cd3-e8ef0d8020c1",
   "metadata": {},
   "outputs": [
    {
     "data": {
      "text/plain": [
       "'Sure, did you know that a day on Venus is longer than a year on Venus? This is because Venus has an extremely slow rotation on its axis. It takes about 243 Earth days for Venus to complete one rotation, but it only takes around 225 Earth days for Venus to complete one orbit around the Sun. So, a day on Venus (the period of rotation) is longer than its year (the period of orbit).'"
      ]
     },
     "execution_count": 184,
     "metadata": {},
     "output_type": "execute_result"
    }
   ],
   "source": [
    "memory_chain.invoke(\"Can you give me an interesting fact i probably didnt know about?\")"
   ]
  },
  {
   "cell_type": "code",
   "execution_count": 185,
   "id": "1b8f76f4-41f6-48c5-a12f-12195766f857",
   "metadata": {},
   "outputs": [
    {
     "data": {
      "text/plain": [
       "\"Of course, I'd be happy to elaborate on the fact about Venus. Venus has a very slow rotation on its axis. It takes about 243 Earth days for Venus to complete one rotation on its axis, which is what we consider a day on Venus. However, Venus orbits the Sun much faster than it rotates. It takes Venus about 225 Earth days to complete one orbit around the Sun, which is what we consider a year on Venus. So, a day on Venus (the time it\""
      ]
     },
     "execution_count": 185,
     "metadata": {},
     "output_type": "execute_result"
    }
   ],
   "source": [
    "memory_chain.invoke(\"Can you elaborate a bit more on this fact?\")"
   ]
  },
  {
   "cell_type": "code",
   "execution_count": null,
   "id": "5fc96508-a4cd-459f-80a3-5626ad421856",
   "metadata": {},
   "outputs": [],
   "source": []
  }
 ],
 "metadata": {
  "kernelspec": {
   "display_name": "langchain_env",
   "language": "python",
   "name": "langchain_env"
  },
  "language_info": {
   "codemirror_mode": {
    "name": "ipython",
    "version": 3
   },
   "file_extension": ".py",
   "mimetype": "text/x-python",
   "name": "python",
   "nbconvert_exporter": "python",
   "pygments_lexer": "ipython3",
   "version": "3.12.8"
  }
 },
 "nbformat": 4,
 "nbformat_minor": 5
}
