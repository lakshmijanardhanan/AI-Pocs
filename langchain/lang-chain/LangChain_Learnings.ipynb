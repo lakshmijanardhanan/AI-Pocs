{
 "cells": [
  {
   "cell_type": "code",
   "execution_count": null,
   "id": "d6acf3e9-bb18-4614-a207-1c4a55bb0f50",
   "metadata": {},
   "outputs": [],
   "source": [
    "# LangChain expression language is a way of grouping chains out of individual components called runnables\n",
    "# Runnable support invoke(), stream(), batch() and their asynch analogs\n",
    "# batch() can handle more than one input"
   ]
  },
  {
   "cell_type": "code",
   "execution_count": 1,
   "id": "8c15c013-722d-46b9-9076-b99788f569df",
   "metadata": {},
   "outputs": [],
   "source": [
    "%load_ext dotenv\n",
    "%dotenv"
   ]
  },
  {
   "cell_type": "code",
   "execution_count": 3,
   "id": "20eb0789-aaa1-42c5-a714-b589bf4bd5d7",
   "metadata": {},
   "outputs": [],
   "source": [
    "from langchain_openai.chat_models import ChatOpenAI\n",
    "from langchain_core.prompts import ChatPromptTemplate\n",
    "from langchain_core.output_parsers import CommaSeparatedListOutputParser, StrOutputParser"
   ]
  },
  {
   "cell_type": "code",
   "execution_count": 5,
   "id": "c755d15a-a062-4f6b-acb4-40d6f85b3706",
   "metadata": {},
   "outputs": [],
   "source": [
    "list_instructions = CommaSeparatedListOutputParser().get_format_instructions()"
   ]
  },
  {
   "cell_type": "code",
   "execution_count": 7,
   "id": "6a34ce6d-a287-479d-9f06-e5927e87f014",
   "metadata": {},
   "outputs": [
    {
     "data": {
      "text/plain": [
       "'Your response should be a list of comma separated values, eg: `foo, bar, baz` or `foo,bar,baz`'"
      ]
     },
     "execution_count": 7,
     "metadata": {},
     "output_type": "execute_result"
    }
   ],
   "source": [
    "list_instructions"
   ]
  },
  {
   "cell_type": "code",
   "execution_count": 15,
   "id": "ea2fce24-fcd0-47f3-86eb-790b026c9920",
   "metadata": {},
   "outputs": [],
   "source": [
    "chat_template = ChatPromptTemplate.from_messages([('human', \"I've recently adapted a {pet}. Could you suggest a {pet} name? \\n\" + list_instructions)])"
   ]
  },
  {
   "cell_type": "code",
   "execution_count": 17,
   "id": "71fb4288-a128-4659-8d95-51bd30478cdc",
   "metadata": {},
   "outputs": [
    {
     "data": {
      "text/plain": [
       "ChatPromptTemplate(input_variables=['pet'], input_types={}, partial_variables={}, messages=[HumanMessagePromptTemplate(prompt=PromptTemplate(input_variables=['pet'], input_types={}, partial_variables={}, template=\"I've recently adapted a {pet}. Could you suggest a {pet} name? \\nYour response should be a list of comma separated values, eg: `foo, bar, baz` or `foo,bar,baz`\"), additional_kwargs={})])"
      ]
     },
     "execution_count": 17,
     "metadata": {},
     "output_type": "execute_result"
    }
   ],
   "source": [
    "chat_template"
   ]
  },
  {
   "cell_type": "code",
   "execution_count": 5,
   "id": "848bc088-5244-4464-a725-489fb2323df9",
   "metadata": {},
   "outputs": [],
   "source": [
    "chat = ChatOpenAI ( model='gpt-4', \n",
    "                   seed=365 , \n",
    "                   temperature=0, \n",
    "                   max_completion_tokens=100)"
   ]
  },
  {
   "cell_type": "code",
   "execution_count": 21,
   "id": "8477142e-7dcc-453a-83a0-13453b2a9a8a",
   "metadata": {},
   "outputs": [],
   "source": [
    "list_output_parser = CommaSeparatedListOutputParser()"
   ]
  },
  {
   "cell_type": "code",
   "execution_count": null,
   "id": "6e9174f5-870c-43d5-ae52-6a6a8513a80c",
   "metadata": {},
   "outputs": [],
   "source": [
    "# Now we have all the components to build an expression language chain - a chat template, a chat model and a chat parser"
   ]
  },
  {
   "cell_type": "code",
   "execution_count": 27,
   "id": "e46fec7a-c482-487b-9483-2c107889ee02",
   "metadata": {},
   "outputs": [],
   "source": [
    "chat_template_result = chat_template.invoke({'pet':'dog'})"
   ]
  },
  {
   "cell_type": "code",
   "execution_count": 29,
   "id": "691179a9-68f1-47c4-9b36-43e9f7c927d6",
   "metadata": {},
   "outputs": [],
   "source": [
    "chat_result = chat.invoke(chat_template_result)"
   ]
  },
  {
   "cell_type": "code",
   "execution_count": 31,
   "id": "416a18ff-6c38-440e-ae13-078903c32227",
   "metadata": {},
   "outputs": [
    {
     "data": {
      "text/plain": [
       "['Max',\n",
       " 'Bella',\n",
       " 'Charlie',\n",
       " 'Daisy',\n",
       " 'Buddy',\n",
       " 'Luna',\n",
       " 'Rocky',\n",
       " 'Molly',\n",
       " 'Jack',\n",
       " 'Sadie']"
      ]
     },
     "execution_count": 31,
     "metadata": {},
     "output_type": "execute_result"
    }
   ],
   "source": [
    "list_output_parser.invoke(chat_result)"
   ]
  },
  {
   "cell_type": "code",
   "execution_count": 33,
   "id": "ed1c3de7-8d53-46b0-913c-134681005f37",
   "metadata": {},
   "outputs": [],
   "source": [
    "chain = chat_template | chat | list_output_parser"
   ]
  },
  {
   "cell_type": "code",
   "execution_count": 35,
   "id": "24c0730e-ea94-4c3e-94e2-3df161b6532f",
   "metadata": {},
   "outputs": [
    {
     "data": {
      "text/plain": [
       "['Max',\n",
       " 'Bella',\n",
       " 'Charlie',\n",
       " 'Daisy',\n",
       " 'Buddy',\n",
       " 'Luna',\n",
       " 'Rocky',\n",
       " 'Molly',\n",
       " 'Jack',\n",
       " 'Sadie']"
      ]
     },
     "execution_count": 35,
     "metadata": {},
     "output_type": "execute_result"
    }
   ],
   "source": [
    "chain.invoke({'pet':'dog'})"
   ]
  },
  {
   "cell_type": "code",
   "execution_count": 37,
   "id": "f208e620-c796-494b-92f0-bee9f1c9e35d",
   "metadata": {},
   "outputs": [],
   "source": [
    "chat_template_batch = ChatPromptTemplate.from_messages(['human', \"I've recently adopted a {pet} which is a {breed}. Could you suggest several training tips?\"])"
   ]
  },
  {
   "cell_type": "code",
   "execution_count": 39,
   "id": "fbe1c9c8-588a-4dfb-8924-dd8ee11fa4a9",
   "metadata": {},
   "outputs": [],
   "source": [
    "batch_chain = chat_template_batch | chat"
   ]
  },
  {
   "cell_type": "code",
   "execution_count": 43,
   "id": "87842ef7-fbf4-408d-b352-c4fef24bc31f",
   "metadata": {},
   "outputs": [
    {
     "data": {
      "text/plain": [
       "AIMessage(content='Absolutely, training a shepherd dog can be a rewarding experience as they are known for their intelligence and eagerness to learn. Here are some tips:\\n\\n1. Start Early: Begin training your shepherd as soon as you bring them home. They are quick learners and starting early will help them understand basic commands and house rules.\\n\\n2. Consistency is Key: Be consistent with your commands and the behavior you expect. If you allow your dog to break rules occasionally, they will get confused about what they are allowed', additional_kwargs={'refusal': None}, response_metadata={'token_usage': {'completion_tokens': 100, 'prompt_tokens': 30, 'total_tokens': 130, 'completion_tokens_details': {'accepted_prediction_tokens': 0, 'audio_tokens': 0, 'reasoning_tokens': 0, 'rejected_prediction_tokens': 0}, 'prompt_tokens_details': {'audio_tokens': 0, 'cached_tokens': 0}}, 'model_name': 'gpt-4-0613', 'system_fingerprint': None, 'finish_reason': 'length', 'logprobs': None}, id='run-bd151162-a334-4ddd-81de-e1b898eacf72-0', usage_metadata={'input_tokens': 30, 'output_tokens': 100, 'total_tokens': 130, 'input_token_details': {'audio': 0, 'cache_read': 0}, 'output_token_details': {'audio': 0, 'reasoning': 0}})"
      ]
     },
     "execution_count": 43,
     "metadata": {},
     "output_type": "execute_result"
    }
   ],
   "source": [
    "batch_chain.invoke({'pet':'dog', 'breed':'shepherd'})"
   ]
  },
  {
   "cell_type": "code",
   "execution_count": null,
   "id": "e61535e9-0a06-4b0b-8e92-2edfbd09e103",
   "metadata": {},
   "outputs": [],
   "source": [
    "# invoke method doesnt allow for feeding several inputs at once if you want training tips for several pets. We can do in a loop but batching is better\n",
    "#Batching invokes the cells in parallel"
   ]
  },
  {
   "cell_type": "code",
   "execution_count": 47,
   "id": "68ce4e9d-6b50-4300-a957-62b52290ac5b",
   "metadata": {},
   "outputs": [
    {
     "data": {
      "text/plain": [
       "[AIMessage(content=\"Absolutely, training a shepherd dog can be a rewarding experience as they are known for their intelligence and eagerness to learn. Here are some tips:\\n\\n1. Start Early: Begin training your shepherd as soon as you bring them home. They are quick learners and starting early will help them understand basic commands and house rules.\\n\\n2. Consistency is Key: Be consistent with your commands and the behavior you expect. If you allow your dog to do something once, they will think it's always acceptable.\\n\\n3\", additional_kwargs={'refusal': None}, response_metadata={'token_usage': {'completion_tokens': 100, 'prompt_tokens': 30, 'total_tokens': 130, 'completion_tokens_details': {'accepted_prediction_tokens': 0, 'audio_tokens': 0, 'reasoning_tokens': 0, 'rejected_prediction_tokens': 0}, 'prompt_tokens_details': {'audio_tokens': 0, 'cached_tokens': 0}}, 'model_name': 'gpt-4-0613', 'system_fingerprint': None, 'finish_reason': 'length', 'logprobs': None}, id='run-7b9e20f1-bc29-473c-b777-71e78985252d-0', usage_metadata={'input_tokens': 30, 'output_tokens': 100, 'total_tokens': 130, 'input_token_details': {'audio': 0, 'cache_read': 0}, 'output_token_details': {'audio': 0, 'reasoning': 0}}),\n",
       " AIMessage(content=\"Training a dragon, especially a Night Fury, is no small task. Here are some tips that might help:\\n\\n1. Building Trust: The first step in training any creature, real or mythical, is to build trust. Spend time with your dragon, feed it, and show it that you mean no harm. \\n\\n2. Communication: Try to understand your dragon's signals and body language. Night Furies are intelligent creatures and they communicate through roars, growls, and body movements. \\n\\n3\", additional_kwargs={'refusal': None}, response_metadata={'token_usage': {'completion_tokens': 100, 'prompt_tokens': 31, 'total_tokens': 131, 'completion_tokens_details': {'accepted_prediction_tokens': 0, 'audio_tokens': 0, 'reasoning_tokens': 0, 'rejected_prediction_tokens': 0}, 'prompt_tokens_details': {'audio_tokens': 0, 'cached_tokens': 0}}, 'model_name': 'gpt-4-0613', 'system_fingerprint': None, 'finish_reason': 'length', 'logprobs': None}, id='run-f2bbd835-9850-4eef-904c-ed0d153595d7-0', usage_metadata={'input_tokens': 31, 'output_tokens': 100, 'total_tokens': 131, 'input_token_details': {'audio': 0, 'cache_read': 0}, 'output_token_details': {'audio': 0, 'reasoning': 0}})]"
      ]
     },
     "execution_count": 47,
     "metadata": {},
     "output_type": "execute_result"
    }
   ],
   "source": [
    "batch_chain.batch([{'pet':'dog', 'breed':'shepherd'},\n",
    "                  {'pet':'dragon','breed':'night fury'}])"
   ]
  },
  {
   "cell_type": "code",
   "execution_count": null,
   "id": "21d98878-e704-4232-9471-09d1db7c02f1",
   "metadata": {},
   "outputs": [],
   "source": [
    "# if you invoke each pet seprately and then use batch, you will see time efficiency using the following commands"
   ]
  },
  {
   "cell_type": "code",
   "execution_count": 49,
   "id": "b953d977-b4bb-4d23-926d-aef33ebe8e94",
   "metadata": {},
   "outputs": [
    {
     "name": "stdout",
     "output_type": "stream",
     "text": [
      "CPU times: user 14.3 ms, sys: 3.33 ms, total: 17.7 ms\n",
      "Wall time: 5.02 s\n"
     ]
    },
    {
     "data": {
      "text/plain": [
       "AIMessage(content='Absolutely, training a shepherd dog can be a rewarding experience as they are known for their intelligence and eagerness to learn. Here are some tips:\\n\\n1. Start Early: Begin training your shepherd as soon as you bring them home. They are quick learners and starting early will help them understand basic commands and house rules.\\n\\n2. Consistency is Key: Be consistent with your commands and the behavior you expect. If you allow your dog to break rules occasionally, they will get confused about what they are allowed', additional_kwargs={'refusal': None}, response_metadata={'token_usage': {'completion_tokens': 100, 'prompt_tokens': 30, 'total_tokens': 130, 'completion_tokens_details': {'accepted_prediction_tokens': 0, 'audio_tokens': 0, 'reasoning_tokens': 0, 'rejected_prediction_tokens': 0}, 'prompt_tokens_details': {'audio_tokens': 0, 'cached_tokens': 0}}, 'model_name': 'gpt-4-0613', 'system_fingerprint': None, 'finish_reason': 'length', 'logprobs': None}, id='run-0855650b-45ff-4ffa-8a23-63c70607c1f1-0', usage_metadata={'input_tokens': 30, 'output_tokens': 100, 'total_tokens': 130, 'input_token_details': {'audio': 0, 'cache_read': 0}, 'output_token_details': {'audio': 0, 'reasoning': 0}})"
      ]
     },
     "execution_count": 49,
     "metadata": {},
     "output_type": "execute_result"
    }
   ],
   "source": [
    "%%time\n",
    "batch_chain.invoke({'pet':'dog', 'breed':'shepherd'})"
   ]
  },
  {
   "cell_type": "code",
   "execution_count": 51,
   "id": "8e72998a-a82b-438d-a747-0c10a699153e",
   "metadata": {},
   "outputs": [
    {
     "name": "stdout",
     "output_type": "stream",
     "text": [
      "CPU times: user 27.6 ms, sys: 5.84 ms, total: 33.4 ms\n",
      "Wall time: 5.61 s\n"
     ]
    },
    {
     "data": {
      "text/plain": [
       "[AIMessage(content='Absolutely, training a shepherd dog can be a rewarding experience as they are known for their intelligence and eagerness to learn. Here are some tips:\\n\\n1. Start Early: Begin training your shepherd as soon as you bring them home. They are quick learners and starting early will help them understand basic commands and house rules.\\n\\n2. Consistency is Key: Be consistent with your commands and the behavior you expect. If you allow your dog to break rules occasionally, they will get confused about what they are allowed', additional_kwargs={'refusal': None}, response_metadata={'token_usage': {'completion_tokens': 100, 'prompt_tokens': 30, 'total_tokens': 130, 'completion_tokens_details': {'accepted_prediction_tokens': 0, 'audio_tokens': 0, 'reasoning_tokens': 0, 'rejected_prediction_tokens': 0}, 'prompt_tokens_details': {'audio_tokens': 0, 'cached_tokens': 0}}, 'model_name': 'gpt-4-0613', 'system_fingerprint': None, 'finish_reason': 'length', 'logprobs': None}, id='run-bebbaa72-9255-42c6-ae08-8b6932167d98-0', usage_metadata={'input_tokens': 30, 'output_tokens': 100, 'total_tokens': 130, 'input_token_details': {'audio': 0, 'cache_read': 0}, 'output_token_details': {'audio': 0, 'reasoning': 0}}),\n",
       " AIMessage(content=\"Training a dragon, especially a Night Fury, is no small task. Here are some tips that might help:\\n\\n1. Establish Trust: Night Furies are known for their intelligence and loyalty. The first step in training your dragon is to establish trust. Spend time with it, feed it, and show it that you mean no harm.\\n\\n2. Communication: Learn to understand your dragon's signals and body language. Night Furies are expressive creatures and you can learn a lot about their mood and needs by\", additional_kwargs={'refusal': None}, response_metadata={'token_usage': {'completion_tokens': 100, 'prompt_tokens': 31, 'total_tokens': 131, 'completion_tokens_details': {'accepted_prediction_tokens': 0, 'audio_tokens': 0, 'reasoning_tokens': 0, 'rejected_prediction_tokens': 0}, 'prompt_tokens_details': {'audio_tokens': 0, 'cached_tokens': 0}}, 'model_name': 'gpt-4-0613', 'system_fingerprint': None, 'finish_reason': 'length', 'logprobs': None}, id='run-0de61f6f-1005-4fc9-94fd-501b7ba8b0ce-0', usage_metadata={'input_tokens': 31, 'output_tokens': 100, 'total_tokens': 131, 'input_token_details': {'audio': 0, 'cache_read': 0}, 'output_token_details': {'audio': 0, 'reasoning': 0}})]"
      ]
     },
     "execution_count": 51,
     "metadata": {},
     "output_type": "execute_result"
    }
   ],
   "source": [
    "%%time\n",
    "batch_chain.batch([{'pet':'dog', 'breed':'shepherd'},\n",
    "                  {'pet':'dragon','breed':'night fury'}])"
   ]
  },
  {
   "cell_type": "code",
   "execution_count": null,
   "id": "bc9769ba-d9ea-4d7e-872e-f37bcb264761",
   "metadata": {},
   "outputs": [],
   "source": [
    "# Passing several inputs at once to a batch() method is much more efficient that invoking a chain many times in sequence.\n",
    "# this can scale up significantly with more dictionaries and lengthier responses"
   ]
  },
  {
   "cell_type": "code",
   "execution_count": 53,
   "id": "11627204-cc3b-4ab6-be02-6fe61613c49a",
   "metadata": {},
   "outputs": [
    {
     "data": {
      "text/plain": [
       "<generator object RunnableSequence.stream at 0x114634130>"
      ]
     },
     "execution_count": 53,
     "metadata": {},
     "output_type": "execute_result"
    }
   ],
   "source": [
    "batch_chain.stream({'pet':'dog', 'breed':'shepherd'})"
   ]
  },
  {
   "cell_type": "code",
   "execution_count": null,
   "id": "3dcd3a43-67b4-46fb-9ba9-a14a3199ea76",
   "metadata": {},
   "outputs": [],
   "source": [
    "# Generator functions are like loop function. They preserve and expose the local state. uses a yield statements that produces a seq of values\n",
    "# instead of a return statement that exits the function\n",
    "# they are single use iterator, cannot be resused. Ideal for streaming responses from llm with limited mem"
   ]
  },
  {
   "cell_type": "code",
   "execution_count": null,
   "id": "7d41485f-6c39-4393-b3c4-705d7a53abc3",
   "metadata": {},
   "outputs": [],
   "source": [
    "response = batch_chain.invoke({'pet':'dog', 'breed':'shepherd'})\n",
    "next(response) # This method shows you AIMEssageChunk, one by one in the iterator. You can run it as many times as the chat max tokens"
   ]
  },
  {
   "cell_type": "code",
   "execution_count": null,
   "id": "5fec01d0-6f2c-4388-b0ab-5750a0fb23c7",
   "metadata": {},
   "outputs": [],
   "source": [
    "for i in response:\n",
    "    print(i.content, end='')\n",
    "\n",
    "# This code streams the text in the output"
   ]
  },
  {
   "cell_type": "code",
   "execution_count": null,
   "id": "7a17821a-f156-4ccf-afea-87c88fcf9d07",
   "metadata": {},
   "outputs": [],
   "source": [
    "# What are the different types of lang chain objects that can be integrated into a chain and what is the resulting chain"
   ]
  },
  {
   "cell_type": "code",
   "execution_count": 55,
   "id": "3b95195f-64ba-4c9c-908d-b27b7d5ca86e",
   "metadata": {},
   "outputs": [
    {
     "data": {
      "text/plain": [
       "langchain_core.runnables.base.RunnableSequence"
      ]
     },
     "execution_count": 55,
     "metadata": {},
     "output_type": "execute_result"
    }
   ],
   "source": [
    "type(chain)"
   ]
  },
  {
   "cell_type": "code",
   "execution_count": null,
   "id": "681aa09e-1d2c-422d-8ef4-e30bd510559f",
   "metadata": {},
   "outputs": [],
   "source": [
    "# This class implements a sequence of runnables where the output of each is input to the next. Chat model, template and and output is instance of runnable sequence"
   ]
  },
  {
   "cell_type": "code",
   "execution_count": null,
   "id": "810bd9d6-5e5d-4f41-aeab-91171ee2d81a",
   "metadata": {},
   "outputs": [],
   "source": [
    "# therefore inherits the invoke, batch, stream method, can be chained. Chains are also runnables and can also be chained\n",
    "# Retriever and Tools are also runnables"
   ]
  },
  {
   "cell_type": "code",
   "execution_count": 7,
   "id": "4721ba20-add5-4daa-9551-e6505e50c677",
   "metadata": {},
   "outputs": [],
   "source": [
    "from langchain_core.runnables import RunnablePassthrough"
   ]
  },
  {
   "cell_type": "code",
   "execution_count": 8,
   "id": "98472ab1-31a3-4646-a4ae-107923ff43f4",
   "metadata": {},
   "outputs": [
    {
     "data": {
      "text/plain": [
       "'Hi'"
      ]
     },
     "execution_count": 8,
     "metadata": {},
     "output_type": "execute_result"
    }
   ],
   "source": [
    "runnable = RunnablePassthrough()\n",
    "runnable.invoke(input='Hi')"
   ]
  },
  {
   "cell_type": "code",
   "execution_count": 9,
   "id": "62206c24-93a5-4e39-ab2a-387f7d6ad659",
   "metadata": {},
   "outputs": [],
   "source": [
    "# This is langchain's identity function. How do we now pipe chains\n",
    "# Lets create a chain that lists the most essential tools for a given profession\n",
    "# Feed the output to a second chain that suggest effective strategies for mastering these tools"
   ]
  },
  {
   "cell_type": "code",
   "execution_count": 10,
   "id": "a777e3c1-341c-47da-be07-0886fb6bcfac",
   "metadata": {},
   "outputs": [],
   "source": [
    "chat_template_tools = ChatPromptTemplate.from_template('''\n",
    "What are the five most important tools a {job title} needs?\n",
    "Answer only by listing the tools.\n",
    "''')"
   ]
  },
  {
   "cell_type": "code",
   "execution_count": 11,
   "id": "023b97e1-5953-4304-baaa-3e615ca4b576",
   "metadata": {},
   "outputs": [
    {
     "data": {
      "text/plain": [
       "ChatPromptTemplate(input_variables=['job title'], input_types={}, partial_variables={}, messages=[HumanMessagePromptTemplate(prompt=PromptTemplate(input_variables=['job title'], input_types={}, partial_variables={}, template='\\nWhat are the five most important tools a {job title} needs?\\nAnswer only by listing the tools.\\n'), additional_kwargs={})])"
      ]
     },
     "execution_count": 11,
     "metadata": {},
     "output_type": "execute_result"
    }
   ],
   "source": [
    "chat_template_tools"
   ]
  },
  {
   "cell_type": "code",
   "execution_count": 12,
   "id": "ae4c3e94-655f-4557-989a-9fdaa2439b34",
   "metadata": {},
   "outputs": [],
   "source": [
    "chat_template_strategy = ChatPromptTemplate.from_template('''\n",
    "Considering the tools provided, develop a strategy for efficiently learning and mastering them:\n",
    "{tools}\n",
    "''')"
   ]
  },
  {
   "cell_type": "code",
   "execution_count": 13,
   "id": "6cab5b7d-c1dd-4aa9-afa3-f33124fd531e",
   "metadata": {},
   "outputs": [
    {
     "data": {
      "text/plain": [
       "ChatPromptTemplate(input_variables=['tools'], input_types={}, partial_variables={}, messages=[HumanMessagePromptTemplate(prompt=PromptTemplate(input_variables=['tools'], input_types={}, partial_variables={}, template='\\nConsidering the tools provided, develop a strategy for efficiently learning and mastering them:\\n{tools}\\n'), additional_kwargs={})])"
      ]
     },
     "execution_count": 13,
     "metadata": {},
     "output_type": "execute_result"
    }
   ],
   "source": [
    "chat_template_strategy"
   ]
  },
  {
   "cell_type": "code",
   "execution_count": 14,
   "id": "ea097ac4-702a-4bce-ab9d-aa0903ccc99c",
   "metadata": {},
   "outputs": [],
   "source": [
    "string_parse = StrOutputParser()"
   ]
  },
  {
   "cell_type": "code",
   "execution_count": 15,
   "id": "55439665-b5f8-4df7-90f2-ae52b3c70648",
   "metadata": {},
   "outputs": [],
   "source": [
    "chain_tools = chat_template_tools | chat | string_parse"
   ]
  },
  {
   "cell_type": "code",
   "execution_count": 16,
   "id": "97cd323f-fb8f-44b0-a89b-4199c85655ae",
   "metadata": {},
   "outputs": [],
   "source": [
    "chain_strategy = chat_template_strategy | chat | string_parse"
   ]
  },
  {
   "cell_type": "code",
   "execution_count": 17,
   "id": "aadaff05-fb0c-44b7-b81a-56ce74d8c1db",
   "metadata": {},
   "outputs": [
    {
     "name": "stdout",
     "output_type": "stream",
     "text": [
      "1. Python\n",
      "2. R Programming\n",
      "3. SQL\n",
      "4. Tableau\n",
      "5. Hadoop\n"
     ]
    }
   ],
   "source": [
    "print(chain_tools.invoke({'job title':'data scientist'}))"
   ]
  },
  {
   "cell_type": "code",
   "execution_count": 18,
   "id": "6983b7d5-0d62-4af4-bc1f-61cac279c611",
   "metadata": {},
   "outputs": [
    {
     "name": "stdout",
     "output_type": "stream",
     "text": [
      "1. Python: Start with the basics of Python, such as variables, data types, operators, and control flow. Once you have a good understanding of these, move on to more complex topics like functions, classes, and error handling. Use online resources like Codecademy, Coursera, or edX for structured learning. Practice coding regularly on platforms like LeetCode or HackerRank. Work on small projects to apply what you've learned.\n",
      "\n",
      "2. R Programming: Begin with the basics of\n"
     ]
    }
   ],
   "source": [
    "print(chain_strategy.invoke({'tools':\n",
    " '''1. Python\n",
    "2. R Programming\n",
    "3. SQL\n",
    "4. Tableau\n",
    "5. Hadoop   \n",
    " '''   \n",
    "}))"
   ]
  },
  {
   "cell_type": "code",
   "execution_count": 19,
   "id": "097ba2d6-8ee3-4d4d-9722-5f1a41ad936f",
   "metadata": {},
   "outputs": [],
   "source": [
    "# Now how do we merge the two chains into one? Use the RunnablePassthrough class\n",
    "# A dictionary specifying the job title is fed to chat_template_tools -> chat_prompt_value object --> chat --> AIMessage --> string_parser\n",
    "# --> RunnablePassthrough --> tools mapped to the string\n",
    "# Invking chain_strategy with the output of the chain_tools will connect the two runnables.\n"
   ]
  },
  {
   "cell_type": "code",
   "execution_count": 20,
   "id": "55b2d5a4-2059-4622-805c-c30151788edf",
   "metadata": {},
   "outputs": [],
   "source": [
    "chain_combined = chain_tools | chain_strategy"
   ]
  },
  {
   "cell_type": "code",
   "execution_count": 21,
   "id": "0b7e72c6-0c84-4b80-bc27-dae1b0867801",
   "metadata": {},
   "outputs": [
    {
     "name": "stdout",
     "output_type": "stream",
     "text": [
      "1. Python: Start with the basics of Python, such as variables, data types, loops, and functions. Use online resources like Codecademy, Coursera, or edX for structured learning. Practice coding problems on platforms like LeetCode or HackerRank. Work on small projects or contribute to open-source projects to gain practical experience. \n",
      "\n",
      "2. R Programming: Begin with the basics of R, such as data types, vectors, matrices, lists, and data frames. Use online resources\n"
     ]
    }
   ],
   "source": [
    "print( chain_combined.invoke ({'job title':'data scientist'}))"
   ]
  },
  {
   "cell_type": "code",
   "execution_count": 22,
   "id": "fd77e82e-3cde-43da-b7f6-d3a407df42ff",
   "metadata": {},
   "outputs": [],
   "source": [
    "chain_long = chat_template_tools| chat | string_parse | {'tools': RunnablePassthrough()} | chat_template_strategy | chat  | string_parse"
   ]
  },
  {
   "cell_type": "code",
   "execution_count": 23,
   "id": "071ab50f-b8fe-4e77-9836-e69951b4db03",
   "metadata": {},
   "outputs": [],
   "source": [
    "# python grandalf library helps us understand the process inside the chain"
   ]
  },
  {
   "cell_type": "code",
   "execution_count": 24,
   "id": "b090ba11-0492-4806-8f93-962722e7e710",
   "metadata": {},
   "outputs": [
    {
     "name": "stdout",
     "output_type": "stream",
     "text": [
      "Requirement already satisfied: grandalf in /opt/anaconda3/envs/langchain_env/lib/python3.12/site-packages (0.8)\n",
      "Requirement already satisfied: pyparsing in /opt/anaconda3/envs/langchain_env/lib/python3.12/site-packages (from grandalf) (3.2.1)\n",
      "Note: you may need to restart the kernel to use updated packages.\n"
     ]
    }
   ],
   "source": [
    "#pip install grandalf"
   ]
  },
  {
   "cell_type": "code",
   "execution_count": 46,
   "id": "918640f4-73db-4fe4-9e58-18e78fb5bfc7",
   "metadata": {},
   "outputs": [
    {
     "name": "stdout",
     "output_type": "stream",
     "text": [
      "     +-------------+       \n",
      "     | PromptInput |       \n",
      "     +-------------+       \n",
      "            *              \n",
      "            *              \n",
      "            *              \n",
      "  +--------------------+   \n",
      "  | ChatPromptTemplate |   \n",
      "  +--------------------+   \n",
      "            *              \n",
      "            *              \n",
      "            *              \n",
      "      +------------+       \n",
      "      | ChatOpenAI |       \n",
      "      +------------+       \n",
      "            *              \n",
      "            *              \n",
      "            *              \n",
      "   +-----------------+     \n",
      "   | StrOutputParser |     \n",
      "   +-----------------+     \n",
      "            *              \n",
      "            *              \n",
      "            *              \n",
      "+-----------------------+  \n",
      "| StrOutputParserOutput |  \n",
      "+-----------------------+  \n",
      "            *              \n",
      "            *              \n",
      "            *              \n",
      "     +-------------+       \n",
      "     | Passthrough |       \n",
      "     +-------------+       \n",
      "            *              \n",
      "            *              \n",
      "            *              \n",
      "  +--------------------+   \n",
      "  | ChatPromptTemplate |   \n",
      "  +--------------------+   \n",
      "            *              \n",
      "            *              \n",
      "            *              \n",
      "      +------------+       \n",
      "      | ChatOpenAI |       \n",
      "      +------------+       \n",
      "            *              \n",
      "            *              \n",
      "            *              \n",
      "   +-----------------+     \n",
      "   | StrOutputParser |     \n",
      "   +-----------------+     \n",
      "            *              \n",
      "            *              \n",
      "            *              \n",
      "+-----------------------+  \n",
      "| StrOutputParserOutput |  \n",
      "+-----------------------+  \n"
     ]
    }
   ],
   "source": [
    "chain_long.get_graph().print_ascii()"
   ]
  },
  {
   "cell_type": "code",
   "execution_count": null,
   "id": "df545964-dc1e-4239-8572-b99759fd5d31",
   "metadata": {},
   "outputs": [],
   "source": [
    "# start with 2 chains. First suggest 2 intermediate programming level books and the second suggesting three projects on the same language & level"
   ]
  },
  {
   "cell_type": "code",
   "execution_count": null,
   "id": "3cbf0e92-e173-4bcb-8d7a-92b27dc26ee8",
   "metadata": {},
   "outputs": [],
   "source": [
    "# Both chains accept one input which is the language\n",
    "# We want to run both chains parallely and study the graph and execution time"
   ]
  },
  {
   "cell_type": "code",
   "execution_count": 48,
   "id": "bf3401a9-80da-4d96-a6e6-e433f40eb231",
   "metadata": {},
   "outputs": [],
   "source": [
    "chat_template_books = ChatPromptTemplate.from_template('''\n",
    "Suggest three of the best Intermediate level {programming language} books.\n",
    "Answer only by listing the books.\n",
    "''')\n",
    "\n",
    "chat_template_projects = ChatPromptTemplate.from_template('''\n",
    "Suggest three interesting {programming language} projects suitable for Intermediate level programmers.\n",
    "Answer only by listing the projects.\n",
    "''')"
   ]
  },
  {
   "cell_type": "code",
   "execution_count": 50,
   "id": "25c55c95-cc81-4bfa-98bf-2cc95d6b5a35",
   "metadata": {},
   "outputs": [],
   "source": [
    "from langchain_core.runnables import RunnableParallel"
   ]
  },
  {
   "cell_type": "code",
   "execution_count": 52,
   "id": "a6ed2db6-ab4c-48c2-b18c-c5a4a9e5fa03",
   "metadata": {},
   "outputs": [],
   "source": [
    "str_par = StrOutputParser()"
   ]
  },
  {
   "cell_type": "code",
   "execution_count": 54,
   "id": "3a8160bf-00b6-4946-b7ab-1fe5a4fd7f00",
   "metadata": {},
   "outputs": [],
   "source": [
    "chain_books = chat_template_books | chat | str_par\n",
    "chain_projects = chat_template_projects | chat | str_par"
   ]
  },
  {
   "cell_type": "code",
   "execution_count": 56,
   "id": "772da6c7-64ee-4296-8852-e6b3072d1991",
   "metadata": {},
   "outputs": [],
   "source": [
    "chain_prarallel = RunnableParallel({'books':chain_books, 'projects':chain_projects})"
   ]
  },
  {
   "cell_type": "code",
   "execution_count": 58,
   "id": "56c7cff4-5913-4c68-a565-1022a49d040b",
   "metadata": {},
   "outputs": [
    {
     "data": {
      "text/plain": [
       "{'books': '1. \"Fluent Python: Clear, Concise, and Effective Programming\" by Luciano Ramalho\\n2. \"Python Cookbook: Recipes for Mastering Python 3\" by David Beazley and Brian K. Jones\\n3. \"Effective Python: 90 Specific Ways to Write Better Python\" by Brett Slatkin',\n",
       " 'projects': '1. Building a Weather Forecasting Application using APIs\\n2. Developing a Web Scraper for E-commerce Websites\\n3. Creating a Personal Finance Tracker/Budgeting Tool'}"
      ]
     },
     "execution_count": 58,
     "metadata": {},
     "output_type": "execute_result"
    }
   ],
   "source": [
    "chain_prarallel.invoke({'programming language':'Python'})"
   ]
  },
  {
   "cell_type": "code",
   "execution_count": 62,
   "id": "38dee7c2-fb6b-4bac-9b5d-b6885db33d5d",
   "metadata": {},
   "outputs": [
    {
     "name": "stdout",
     "output_type": "stream",
     "text": [
      "            +-------------------------------+              \n",
      "            | Parallel<books,projects>Input |              \n",
      "            +-------------------------------+              \n",
      "                   ***               ***                   \n",
      "                ***                     ***                \n",
      "              **                           **              \n",
      "+--------------------+              +--------------------+ \n",
      "| ChatPromptTemplate |              | ChatPromptTemplate | \n",
      "+--------------------+              +--------------------+ \n",
      "           *                                   *           \n",
      "           *                                   *           \n",
      "           *                                   *           \n",
      "    +------------+                      +------------+     \n",
      "    | ChatOpenAI |                      | ChatOpenAI |     \n",
      "    +------------+                      +------------+     \n",
      "           *                                   *           \n",
      "           *                                   *           \n",
      "           *                                   *           \n",
      "  +-----------------+                 +-----------------+  \n",
      "  | StrOutputParser |                 | StrOutputParser |  \n",
      "  +-----------------+                 +-----------------+  \n",
      "                   ***               ***                   \n",
      "                      ***         ***                      \n",
      "                         **     **                         \n",
      "            +--------------------------------+             \n",
      "            | Parallel<books,projects>Output |             \n",
      "            +--------------------------------+             \n"
     ]
    }
   ],
   "source": [
    "chain_prarallel.get_graph().print_ascii()"
   ]
  },
  {
   "cell_type": "code",
   "execution_count": null,
   "id": "6678e494-07d3-4d1f-b102-b8aac1fc7dba",
   "metadata": {},
   "outputs": [],
   "source": [
    "# batch() allowed us to invoke the same Runnable with different input values\n",
    "# RunnableParallel allowed us to invoke different runnables with same input values"
   ]
  },
  {
   "cell_type": "code",
   "execution_count": null,
   "id": "662904e9-51f9-4cd9-b0c8-0508b512f7c6",
   "metadata": {},
   "outputs": [],
   "source": [
    "%%time\n",
    "chain_books.invoke({'programming language':'Python'})"
   ]
  },
  {
   "cell_type": "code",
   "execution_count": null,
   "id": "31a718df-96df-4f9e-adaa-4a7c7f2db435",
   "metadata": {},
   "outputs": [],
   "source": [
    "%%time\n",
    "chain_projects.invoke({'programming language':'Python'})"
   ]
  },
  {
   "cell_type": "code",
   "execution_count": null,
   "id": "ff90371c-da5d-4180-96ab-215aa78ee247",
   "metadata": {},
   "outputs": [],
   "source": [
    "%%time\n",
    "chain_prarallel.invoke({'programming language':'Python'})"
   ]
  },
  {
   "cell_type": "code",
   "execution_count": 72,
   "id": "86e1defc-da0f-4e56-a591-3e6384f6a40a",
   "metadata": {},
   "outputs": [],
   "source": [
    "# Now take the output which is books and projects from the RunnableParallel and pass them to a new runnable to estimate the time to \n",
    "#complete the books and projects\n"
   ]
  },
  {
   "cell_type": "code",
   "execution_count": 78,
   "id": "b361aa41-bc48-428f-8463-509c355eb610",
   "metadata": {},
   "outputs": [],
   "source": [
    "chat_template_time = ChatPromptTemplate.from_template(\n",
    "    '''\n",
    "    I am an intermediate level programmer.\n",
    "    Consider the following literature:\n",
    "    {books}\n",
    "    Consider the folllowing projects:\n",
    "    {projects}\n",
    "    Roughly how much time would it take me to complete the books and projects?\n",
    "    '''\n",
    ")"
   ]
  },
  {
   "cell_type": "code",
   "execution_count": null,
   "id": "8e6e142e-2721-4274-8139-f63521b7f213",
   "metadata": {},
   "outputs": [],
   "source": [
    "# output from chain_prarallel.invoke({'programming language':'Python'}) should be fed into a new Runnable project"
   ]
  },
  {
   "cell_type": "code",
   "execution_count": 80,
   "id": "4d7febe3-0810-414d-8b54-95294d025ba1",
   "metadata": {},
   "outputs": [],
   "source": [
    "chain_time = RunnableParallel({'books':chain_books, 'projects':chain_projects}) | chat_template_time | chat | str_par"
   ]
  },
  {
   "cell_type": "code",
   "execution_count": 84,
   "id": "18d72ba1-ec57-4b13-8ff8-31ac22624b50",
   "metadata": {},
   "outputs": [
    {
     "name": "stdout",
     "output_type": "stream",
     "text": [
      "The time it takes to complete the books and projects can vary greatly depending on several factors such as your reading speed, comprehension level, the complexity of the projects, and the amount of time you can dedicate to them each day. \n",
      "\n",
      "However, as a rough estimate:\n",
      "\n",
      "1. \"Fluent Python: Clear, Concise, and Effective Programming\" - This book is around 800 pages. If you read and practice for about 2 hours a day, it might take you around 2-3\n"
     ]
    }
   ],
   "source": [
    "print(chain_time.invoke({'programming language':'Python'}))"
   ]
  },
  {
   "cell_type": "code",
   "execution_count": 86,
   "id": "99b59864-3344-4368-8f25-b8759e25b2ab",
   "metadata": {},
   "outputs": [
    {
     "name": "stdout",
     "output_type": "stream",
     "text": [
      "            +-------------------------------+              \n",
      "            | Parallel<books,projects>Input |              \n",
      "            +-------------------------------+              \n",
      "                   ***               ***                   \n",
      "                ***                     ***                \n",
      "              **                           **              \n",
      "+--------------------+              +--------------------+ \n",
      "| ChatPromptTemplate |              | ChatPromptTemplate | \n",
      "+--------------------+              +--------------------+ \n",
      "           *                                   *           \n",
      "           *                                   *           \n",
      "           *                                   *           \n",
      "    +------------+                      +------------+     \n",
      "    | ChatOpenAI |                      | ChatOpenAI |     \n",
      "    +------------+                      +------------+     \n",
      "           *                                   *           \n",
      "           *                                   *           \n",
      "           *                                   *           \n",
      "  +-----------------+                 +-----------------+  \n",
      "  | StrOutputParser |                 | StrOutputParser |  \n",
      "  +-----------------+                 +-----------------+  \n",
      "                   ***               ***                   \n",
      "                      ***         ***                      \n",
      "                         **     **                         \n",
      "            +--------------------------------+             \n",
      "            | Parallel<books,projects>Output |             \n",
      "            +--------------------------------+             \n",
      "                             *                             \n",
      "                             *                             \n",
      "                             *                             \n",
      "                  +--------------------+                   \n",
      "                  | ChatPromptTemplate |                   \n",
      "                  +--------------------+                   \n",
      "                             *                             \n",
      "                             *                             \n",
      "                             *                             \n",
      "                      +------------+                       \n",
      "                      | ChatOpenAI |                       \n",
      "                      +------------+                       \n",
      "                             *                             \n",
      "                             *                             \n",
      "                             *                             \n",
      "                    +-----------------+                    \n",
      "                    | StrOutputParser |                    \n",
      "                    +-----------------+                    \n",
      "                             *                             \n",
      "                             *                             \n",
      "                             *                             \n",
      "                +-----------------------+                  \n",
      "                | StrOutputParserOutput |                  \n",
      "                +-----------------------+                  \n"
     ]
    }
   ],
   "source": [
    "chain_time.get_graph().print_ascii()"
   ]
  },
  {
   "cell_type": "code",
   "execution_count": null,
   "id": "4c937a1d-8c97-4fbf-94e7-94926dfd91dd",
   "metadata": {},
   "outputs": [],
   "source": [
    "# chain_time = RunnableParallel({'books':chain_books, 'projects':chain_projects}) | chat_template_time | chat | str_par\n",
    "# SAME AS chain_time = {'books':chain_books, 'projects':chain_projects} | chat_template_time | chat | str_par\n",
    "# RunnableParallel for the first input is wrapped automatically"
   ]
  }
 ],
 "metadata": {
  "kernelspec": {
   "display_name": "langchain_env",
   "language": "python",
   "name": "langchain_env"
  },
  "language_info": {
   "codemirror_mode": {
    "name": "ipython",
    "version": 3
   },
   "file_extension": ".py",
   "mimetype": "text/x-python",
   "name": "python",
   "nbconvert_exporter": "python",
   "pygments_lexer": "ipython3",
   "version": "3.12.8"
  }
 },
 "nbformat": 4,
 "nbformat_minor": 5
}
